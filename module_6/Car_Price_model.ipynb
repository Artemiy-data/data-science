{
 "cells": [
  {
   "cell_type": "code",
   "execution_count": 1,
   "id": "d06aa051",
   "metadata": {},
   "outputs": [],
   "source": [
    "import numpy as np  \n",
    "import pandas as pd \n",
    "import sys\n",
    "from sklearn.model_selection import train_test_split, KFold, StratifiedKFold\n",
    "from catboost import CatBoostRegressor\n",
    "from sklearn.preprocessing import LabelEncoder, StandardScaler\n",
    "from sklearn.ensemble import RandomForestRegressor, ExtraTreesRegressor, GradientBoostingRegressor\n",
    "from sklearn.linear_model import LinearRegression\n",
    "from sklearn.tree import DecisionTreeRegressor\n",
    "from mlens.ensemble import SuperLearner\n",
    "from sklearn.model_selection import RandomizedSearchCV, GridSearchCV\n",
    "from sklearn.feature_selection import f_classif, mutual_info_classif\n",
    "from datetime import datetime\n",
    "import matplotlib.pyplot as plt\n",
    "import seaborn as sns"
   ]
  },
  {
   "cell_type": "code",
   "execution_count": 2,
   "id": "cfa80269",
   "metadata": {},
   "outputs": [],
   "source": [
    "# всегда фиксируйте RANDOM_SEED, чтобы ваши эксперименты были воспроизводимы!\n",
    "RANDOM_SEED = 42"
   ]
  },
  {
   "cell_type": "code",
   "execution_count": 3,
   "id": "ea093a2e",
   "metadata": {},
   "outputs": [],
   "source": [
    "def missing_data(df):\n",
    "    '''\n",
    "    Функция отображает название признака, количество пропщуенных значений и их процент от общего количества.\n",
    "    '''\n",
    "    for column in df.columns:\n",
    "        missing = df[column].isnull().sum()\n",
    "        percent_of_missing = np.mean(df[column].isnull())\n",
    "        if missing > 0:\n",
    "            print(f'{column} - {missing} value(s), {percent_of_missing*100:.2f}%')\n",
    "\n",
    "\n",
    "def duplicate_data(df):\n",
    "    '''\n",
    "    Функция для поиска дубликатов.\n",
    "    '''\n",
    "    if len(df) > len(df.drop_duplicates()):\n",
    "        print('Имеются дубликаты')\n",
    "        display(df[df.duplicated()])\n",
    "    else:\n",
    "        print('Дубликатов не обнаружено')\n",
    "\n",
    "\n",
    "def IQR_outlier(df, column, mode='analysis', verbose=True):\n",
    "    '''\n",
    "    Функция отображения выбросов \n",
    "    '''\n",
    "    perc25 = np.percentile(df[column], 25, axis=0)\n",
    "    perc75 = np.percentile(df[column], 75, axis=0)\n",
    "    IQR = perc75 - perc25\n",
    "    low = perc25 - 1.5*IQR\n",
    "    high = perc75 + 1.5*IQR\n",
    "    anomaly = len(df[df[column] > high]) + \\\n",
    "        len(df[df[column] < low])\n",
    "    if verbose:\n",
    "        if mode == 'analysis':\n",
    "            print(f'Наименование признака: {column}')\n",
    "            print('25-й перцентиль: {},'.format(perc25)[:-1], '75-й перцентиль: {},'.format(perc75),\n",
    "                  'IQR: {}, '.format(IQR), 'Границы выбросов: [{f}, {l}].'.format(f=low, l=high))\n",
    "            print(\n",
    "                f'Выбросов, согласно IQR: {anomaly} | {anomaly/len(df):2.2%}')\n",
    "        elif mode == 'correction':\n",
    "            return low, high\n",
    "\n",
    "\n",
    "def get_log(df, column):\n",
    "    '''\n",
    "    Функция логарифмирования.\n",
    "    '''\n",
    "    return df[column].apply(lambda x: np.log(x + 1))\n",
    "\n",
    "\n",
    "def mape(y_true, y_pred):\n",
    "    return np.mean(np.abs((y_pred-y_true)/y_true))"
   ]
  },
  {
   "cell_type": "code",
   "execution_count": 4,
   "id": "06070934",
   "metadata": {},
   "outputs": [],
   "source": [
    "# Загрузим данные предоставленные Kagle\n",
    "test = pd.read_csv('test.csv')\n",
    "sample_submission = pd.read_csv('sample_submission.csv')"
   ]
  },
  {
   "cell_type": "code",
   "execution_count": 5,
   "id": "d13b0734",
   "metadata": {},
   "outputs": [
    {
     "data": {
      "text/html": [
       "<div>\n",
       "<style scoped>\n",
       "    .dataframe tbody tr th:only-of-type {\n",
       "        vertical-align: middle;\n",
       "    }\n",
       "\n",
       "    .dataframe tbody tr th {\n",
       "        vertical-align: top;\n",
       "    }\n",
       "\n",
       "    .dataframe thead th {\n",
       "        text-align: right;\n",
       "    }\n",
       "</style>\n",
       "<table border=\"1\" class=\"dataframe\">\n",
       "  <thead>\n",
       "    <tr style=\"text-align: right;\">\n",
       "      <th></th>\n",
       "      <th>bodyType</th>\n",
       "      <th>brand</th>\n",
       "      <th>car_url</th>\n",
       "      <th>color</th>\n",
       "      <th>complectation_dict</th>\n",
       "      <th>description</th>\n",
       "      <th>engineDisplacement</th>\n",
       "      <th>enginePower</th>\n",
       "      <th>equipment_dict</th>\n",
       "      <th>fuelType</th>\n",
       "      <th>...</th>\n",
       "      <th>vehicleConfiguration</th>\n",
       "      <th>vehicleTransmission</th>\n",
       "      <th>vendor</th>\n",
       "      <th>Владельцы</th>\n",
       "      <th>Владение</th>\n",
       "      <th>ПТС</th>\n",
       "      <th>Привод</th>\n",
       "      <th>Руль</th>\n",
       "      <th>Состояние</th>\n",
       "      <th>Таможня</th>\n",
       "    </tr>\n",
       "  </thead>\n",
       "  <tbody>\n",
       "    <tr>\n",
       "      <th>0</th>\n",
       "      <td>лифтбек</td>\n",
       "      <td>SKODA</td>\n",
       "      <td>https://auto.ru/cars/used/sale/skoda/octavia/1...</td>\n",
       "      <td>синий</td>\n",
       "      <td>NaN</td>\n",
       "      <td>Все автомобили, представленные в продаже, прох...</td>\n",
       "      <td>1.2 LTR</td>\n",
       "      <td>105 N12</td>\n",
       "      <td>{\"engine-proof\":true,\"tinted-glass\":true,\"airb...</td>\n",
       "      <td>бензин</td>\n",
       "      <td>...</td>\n",
       "      <td>LIFTBACK ROBOT 1.2</td>\n",
       "      <td>роботизированная</td>\n",
       "      <td>EUROPEAN</td>\n",
       "      <td>3 или более</td>\n",
       "      <td>NaN</td>\n",
       "      <td>Оригинал</td>\n",
       "      <td>передний</td>\n",
       "      <td>Левый</td>\n",
       "      <td>Не требует ремонта</td>\n",
       "      <td>Растаможен</td>\n",
       "    </tr>\n",
       "    <tr>\n",
       "      <th>1</th>\n",
       "      <td>лифтбек</td>\n",
       "      <td>SKODA</td>\n",
       "      <td>https://auto.ru/cars/used/sale/skoda/octavia/1...</td>\n",
       "      <td>чёрный</td>\n",
       "      <td>NaN</td>\n",
       "      <td>ЛОТ: 01217195\\nАвтопрага Север\\nДанный автомоб...</td>\n",
       "      <td>1.6 LTR</td>\n",
       "      <td>110 N12</td>\n",
       "      <td>{\"cruise-control\":true,\"asr\":true,\"esp\":true,\"...</td>\n",
       "      <td>бензин</td>\n",
       "      <td>...</td>\n",
       "      <td>LIFTBACK MECHANICAL 1.6</td>\n",
       "      <td>механическая</td>\n",
       "      <td>EUROPEAN</td>\n",
       "      <td>1 владелец</td>\n",
       "      <td>NaN</td>\n",
       "      <td>Оригинал</td>\n",
       "      <td>передний</td>\n",
       "      <td>Левый</td>\n",
       "      <td>Не требует ремонта</td>\n",
       "      <td>Растаможен</td>\n",
       "    </tr>\n",
       "    <tr>\n",
       "      <th>2</th>\n",
       "      <td>лифтбек</td>\n",
       "      <td>SKODA</td>\n",
       "      <td>https://auto.ru/cars/used/sale/skoda/superb/11...</td>\n",
       "      <td>серый</td>\n",
       "      <td>{\"id\":\"20026336\",\"name\":\"Ambition\",\"available_...</td>\n",
       "      <td>Все автомобили, представленные в продаже, прох...</td>\n",
       "      <td>1.8 LTR</td>\n",
       "      <td>152 N12</td>\n",
       "      <td>{\"cruise-control\":true,\"tinted-glass\":true,\"es...</td>\n",
       "      <td>бензин</td>\n",
       "      <td>...</td>\n",
       "      <td>LIFTBACK ROBOT 1.8</td>\n",
       "      <td>роботизированная</td>\n",
       "      <td>EUROPEAN</td>\n",
       "      <td>1 владелец</td>\n",
       "      <td>NaN</td>\n",
       "      <td>Оригинал</td>\n",
       "      <td>передний</td>\n",
       "      <td>Левый</td>\n",
       "      <td>Не требует ремонта</td>\n",
       "      <td>Растаможен</td>\n",
       "    </tr>\n",
       "    <tr>\n",
       "      <th>3</th>\n",
       "      <td>лифтбек</td>\n",
       "      <td>SKODA</td>\n",
       "      <td>https://auto.ru/cars/used/sale/skoda/octavia/1...</td>\n",
       "      <td>коричневый</td>\n",
       "      <td>{\"id\":\"20803582\",\"name\":\"Ambition\",\"available_...</td>\n",
       "      <td>КОМПЛЕКТ ЗИМНЕЙ (ЛЕТНЕЙ) РЕЗИНЫ ПО СЕЗОНУ В ПО...</td>\n",
       "      <td>1.6 LTR</td>\n",
       "      <td>110 N12</td>\n",
       "      <td>{\"cruise-control\":true,\"roller-blind-for-rear-...</td>\n",
       "      <td>бензин</td>\n",
       "      <td>...</td>\n",
       "      <td>LIFTBACK AUTOMATIC 1.6</td>\n",
       "      <td>автоматическая</td>\n",
       "      <td>EUROPEAN</td>\n",
       "      <td>1 владелец</td>\n",
       "      <td>NaN</td>\n",
       "      <td>Оригинал</td>\n",
       "      <td>передний</td>\n",
       "      <td>Левый</td>\n",
       "      <td>Не требует ремонта</td>\n",
       "      <td>Растаможен</td>\n",
       "    </tr>\n",
       "    <tr>\n",
       "      <th>4</th>\n",
       "      <td>лифтбек</td>\n",
       "      <td>SKODA</td>\n",
       "      <td>https://auto.ru/cars/used/sale/skoda/octavia/1...</td>\n",
       "      <td>белый</td>\n",
       "      <td>NaN</td>\n",
       "      <td>ЛОТ: 01220889\\nАвтопрага Север\\n\\nВы можете по...</td>\n",
       "      <td>1.8 LTR</td>\n",
       "      <td>152 N12</td>\n",
       "      <td>{\"cruise-control\":true,\"asr\":true,\"esp\":true,\"...</td>\n",
       "      <td>бензин</td>\n",
       "      <td>...</td>\n",
       "      <td>LIFTBACK AUTOMATIC 1.8</td>\n",
       "      <td>автоматическая</td>\n",
       "      <td>EUROPEAN</td>\n",
       "      <td>1 владелец</td>\n",
       "      <td>NaN</td>\n",
       "      <td>Оригинал</td>\n",
       "      <td>передний</td>\n",
       "      <td>Левый</td>\n",
       "      <td>Не требует ремонта</td>\n",
       "      <td>Растаможен</td>\n",
       "    </tr>\n",
       "  </tbody>\n",
       "</table>\n",
       "<p>5 rows × 32 columns</p>\n",
       "</div>"
      ],
      "text/plain": [
       "  bodyType  brand                                            car_url  \\\n",
       "0  лифтбек  SKODA  https://auto.ru/cars/used/sale/skoda/octavia/1...   \n",
       "1  лифтбек  SKODA  https://auto.ru/cars/used/sale/skoda/octavia/1...   \n",
       "2  лифтбек  SKODA  https://auto.ru/cars/used/sale/skoda/superb/11...   \n",
       "3  лифтбек  SKODA  https://auto.ru/cars/used/sale/skoda/octavia/1...   \n",
       "4  лифтбек  SKODA  https://auto.ru/cars/used/sale/skoda/octavia/1...   \n",
       "\n",
       "        color                                 complectation_dict  \\\n",
       "0       синий                                                NaN   \n",
       "1      чёрный                                                NaN   \n",
       "2       серый  {\"id\":\"20026336\",\"name\":\"Ambition\",\"available_...   \n",
       "3  коричневый  {\"id\":\"20803582\",\"name\":\"Ambition\",\"available_...   \n",
       "4       белый                                                NaN   \n",
       "\n",
       "                                         description engineDisplacement  \\\n",
       "0  Все автомобили, представленные в продаже, прох...            1.2 LTR   \n",
       "1  ЛОТ: 01217195\\nАвтопрага Север\\nДанный автомоб...            1.6 LTR   \n",
       "2  Все автомобили, представленные в продаже, прох...            1.8 LTR   \n",
       "3  КОМПЛЕКТ ЗИМНЕЙ (ЛЕТНЕЙ) РЕЗИНЫ ПО СЕЗОНУ В ПО...            1.6 LTR   \n",
       "4  ЛОТ: 01220889\\nАвтопрага Север\\n\\nВы можете по...            1.8 LTR   \n",
       "\n",
       "  enginePower                                     equipment_dict fuelType  \\\n",
       "0     105 N12  {\"engine-proof\":true,\"tinted-glass\":true,\"airb...   бензин   \n",
       "1     110 N12  {\"cruise-control\":true,\"asr\":true,\"esp\":true,\"...   бензин   \n",
       "2     152 N12  {\"cruise-control\":true,\"tinted-glass\":true,\"es...   бензин   \n",
       "3     110 N12  {\"cruise-control\":true,\"roller-blind-for-rear-...   бензин   \n",
       "4     152 N12  {\"cruise-control\":true,\"asr\":true,\"esp\":true,\"...   бензин   \n",
       "\n",
       "   ...     vehicleConfiguration  vehicleTransmission    vendor    Владельцы  \\\n",
       "0  ...       LIFTBACK ROBOT 1.2     роботизированная  EUROPEAN  3 или более   \n",
       "1  ...  LIFTBACK MECHANICAL 1.6         механическая  EUROPEAN   1 владелец   \n",
       "2  ...       LIFTBACK ROBOT 1.8     роботизированная  EUROPEAN   1 владелец   \n",
       "3  ...   LIFTBACK AUTOMATIC 1.6       автоматическая  EUROPEAN   1 владелец   \n",
       "4  ...   LIFTBACK AUTOMATIC 1.8       автоматическая  EUROPEAN   1 владелец   \n",
       "\n",
       "  Владение       ПТС    Привод   Руль           Состояние     Таможня  \n",
       "0      NaN  Оригинал  передний  Левый  Не требует ремонта  Растаможен  \n",
       "1      NaN  Оригинал  передний  Левый  Не требует ремонта  Растаможен  \n",
       "2      NaN  Оригинал  передний  Левый  Не требует ремонта  Растаможен  \n",
       "3      NaN  Оригинал  передний  Левый  Не требует ремонта  Растаможен  \n",
       "4      NaN  Оригинал  передний  Левый  Не требует ремонта  Растаможен  \n",
       "\n",
       "[5 rows x 32 columns]"
      ]
     },
     "execution_count": 5,
     "metadata": {},
     "output_type": "execute_result"
    }
   ],
   "source": [
    "# Рассмотрим тестовый датасет\n",
    "test.head(5)"
   ]
  },
  {
   "cell_type": "code",
   "execution_count": 6,
   "id": "d1f1d7e5",
   "metadata": {},
   "outputs": [
    {
     "name": "stdout",
     "output_type": "stream",
     "text": [
      "<class 'pandas.core.frame.DataFrame'>\n",
      "RangeIndex: 34686 entries, 0 to 34685\n",
      "Data columns (total 32 columns):\n",
      " #   Column                Non-Null Count  Dtype \n",
      "---  ------                --------------  ----- \n",
      " 0   bodyType              34686 non-null  object\n",
      " 1   brand                 34686 non-null  object\n",
      " 2   car_url               34686 non-null  object\n",
      " 3   color                 34686 non-null  object\n",
      " 4   complectation_dict    6418 non-null   object\n",
      " 5   description           34686 non-null  object\n",
      " 6   engineDisplacement    34686 non-null  object\n",
      " 7   enginePower           34686 non-null  object\n",
      " 8   equipment_dict        24690 non-null  object\n",
      " 9   fuelType              34686 non-null  object\n",
      " 10  image                 34686 non-null  object\n",
      " 11  mileage               34686 non-null  int64 \n",
      " 12  modelDate             34686 non-null  int64 \n",
      " 13  model_info            34686 non-null  object\n",
      " 14  model_name            34686 non-null  object\n",
      " 15  name                  34686 non-null  object\n",
      " 16  numberOfDoors         34686 non-null  int64 \n",
      " 17  parsing_unixtime      34686 non-null  int64 \n",
      " 18  priceCurrency         34686 non-null  object\n",
      " 19  productionDate        34686 non-null  int64 \n",
      " 20  sell_id               34686 non-null  int64 \n",
      " 21  super_gen             34686 non-null  object\n",
      " 22  vehicleConfiguration  34686 non-null  object\n",
      " 23  vehicleTransmission   34686 non-null  object\n",
      " 24  vendor                34686 non-null  object\n",
      " 25  Владельцы             34686 non-null  object\n",
      " 26  Владение              11995 non-null  object\n",
      " 27  ПТС                   34685 non-null  object\n",
      " 28  Привод                34686 non-null  object\n",
      " 29  Руль                  34686 non-null  object\n",
      " 30  Состояние             34686 non-null  object\n",
      " 31  Таможня               34686 non-null  object\n",
      "dtypes: int64(6), object(26)\n",
      "memory usage: 8.5+ MB\n"
     ]
    }
   ],
   "source": [
    "test.info()"
   ]
  },
  {
   "cell_type": "markdown",
   "id": "cf8edca8",
   "metadata": {},
   "source": [
    "## Посмотрим какие у нас имеются данные в test\n",
    "#### Датасет состоит из 32 столбцов, содержащих следующую информацию:\n",
    "- bodyType: Тип кузова;\n",
    "- brand: бренд автомобиля;\n",
    "- car_url: ссылка на объявление;\n",
    "- color: цвет;\n",
    "- complictation_dict: комплектация автомобиля;\n",
    "- description: описание;\n",
    "- engineDisplacement: объем двигателя;\n",
    "- enginePower: мощность двигателя;\n",
    "- equipment_dict: список имеющегося оборудования;\n",
    "- fuelType: тип используемого топлива;\n",
    "- image: изображения автомобиля;\n",
    "- mileage: пробег;\n",
    "- modelDate: год выпуска модели;\n",
    "- model_info : информация о модели;\n",
    "- model_name : имя модели;\n",
    "- name : наименование модели с характеристиками;\n",
    "- numberOfDoors : количество дверей;\n",
    "- parsing_unixtime : время взятия данных в формате unixtime;\n",
    "- priceCurrency: Валюта;\n",
    "- productionDate: Год производства;\n",
    "- sell_id: id объявления;\n",
    "- super_gen: список данных о модели;\n",
    "- vehicleConfiguration: Тип кузова, тип коробки передач и объем двигателя;\n",
    "- vehicleTransmission: тип коробки передачи;\n",
    "- vendor: страна производитель;\n",
    "- Владельцы;\n",
    "- Владение;\n",
    "- ПТС;\n",
    "- Привод;\n",
    "- Руль;\n",
    "- Состояние;\n",
    "- Таможня."
   ]
  },
  {
   "cell_type": "markdown",
   "id": "ba41aede",
   "metadata": {},
   "source": [
    "Для понимания какие данным нам необходимо дополнительно собрать для построения модели, проанализирую данные имеющиеся в тесте. Первое, что меня заинтересовало, это дата получения данных. От этого будет зависеть подбор тестовых данных, так как цены меняются с течением времени."
   ]
  },
  {
   "cell_type": "code",
   "execution_count": 7,
   "id": "f4679605",
   "metadata": {},
   "outputs": [
    {
     "name": "stdout",
     "output_type": "stream",
     "text": [
      "2020-10-19 11:35:06\n",
      "2020-10-26 11:04:24\n"
     ]
    }
   ],
   "source": [
    "# Посмотри за какой период представлены данные в тесте\n",
    "print(pd.to_datetime(test.parsing_unixtime.min(), unit='s'))\n",
    "print(pd.to_datetime(test.parsing_unixtime.max(), unit='s'))"
   ]
  },
  {
   "cell_type": "markdown",
   "id": "5b3129c6",
   "metadata": {},
   "source": [
    "Данные в тестовом датасете представлены на октябрь 2020 года, в идеале для тренировочного датасета иметь данные за аналогичный период. Посмотрим на данные представленные в Baseline для данной задачи."
   ]
  },
  {
   "cell_type": "code",
   "execution_count": 8,
   "id": "6758b449",
   "metadata": {},
   "outputs": [],
   "source": [
    "train = pd.read_csv('all_auto_ru_09_09_2020.csv')"
   ]
  },
  {
   "cell_type": "code",
   "execution_count": 9,
   "id": "828c7202",
   "metadata": {},
   "outputs": [
    {
     "data": {
      "text/html": [
       "<div>\n",
       "<style scoped>\n",
       "    .dataframe tbody tr th:only-of-type {\n",
       "        vertical-align: middle;\n",
       "    }\n",
       "\n",
       "    .dataframe tbody tr th {\n",
       "        vertical-align: top;\n",
       "    }\n",
       "\n",
       "    .dataframe thead th {\n",
       "        text-align: right;\n",
       "    }\n",
       "</style>\n",
       "<table border=\"1\" class=\"dataframe\">\n",
       "  <thead>\n",
       "    <tr style=\"text-align: right;\">\n",
       "      <th></th>\n",
       "      <th>bodyType</th>\n",
       "      <th>brand</th>\n",
       "      <th>color</th>\n",
       "      <th>fuelType</th>\n",
       "      <th>modelDate</th>\n",
       "      <th>name</th>\n",
       "      <th>numberOfDoors</th>\n",
       "      <th>productionDate</th>\n",
       "      <th>vehicleConfiguration</th>\n",
       "      <th>vehicleTransmission</th>\n",
       "      <th>...</th>\n",
       "      <th>Руль</th>\n",
       "      <th>Состояние</th>\n",
       "      <th>Владельцы</th>\n",
       "      <th>ПТС</th>\n",
       "      <th>Таможня</th>\n",
       "      <th>Владение</th>\n",
       "      <th>price</th>\n",
       "      <th>start_date</th>\n",
       "      <th>hidden</th>\n",
       "      <th>model</th>\n",
       "    </tr>\n",
       "  </thead>\n",
       "  <tbody>\n",
       "    <tr>\n",
       "      <th>0</th>\n",
       "      <td>Седан</td>\n",
       "      <td>AUDI</td>\n",
       "      <td>040001</td>\n",
       "      <td>бензин</td>\n",
       "      <td>1990.0</td>\n",
       "      <td>2.8 MT (174 л.с.) 4WD</td>\n",
       "      <td>4.0</td>\n",
       "      <td>1991</td>\n",
       "      <td>SEDAN MECHANICAL 2.8</td>\n",
       "      <td>MECHANICAL</td>\n",
       "      <td>...</td>\n",
       "      <td>LEFT</td>\n",
       "      <td>NaN</td>\n",
       "      <td>3.0</td>\n",
       "      <td>ORIGINAL</td>\n",
       "      <td>True</td>\n",
       "      <td>NaN</td>\n",
       "      <td>200000.0</td>\n",
       "      <td>2019-10-03T08:09:11Z</td>\n",
       "      <td>NaN</td>\n",
       "      <td>100</td>\n",
       "    </tr>\n",
       "    <tr>\n",
       "      <th>1</th>\n",
       "      <td>Седан</td>\n",
       "      <td>AUDI</td>\n",
       "      <td>EE1D19</td>\n",
       "      <td>бензин</td>\n",
       "      <td>1982.0</td>\n",
       "      <td>1.8 MT (90 л.с.)</td>\n",
       "      <td>4.0</td>\n",
       "      <td>1986</td>\n",
       "      <td>SEDAN MECHANICAL 1.8</td>\n",
       "      <td>MECHANICAL</td>\n",
       "      <td>...</td>\n",
       "      <td>LEFT</td>\n",
       "      <td>NaN</td>\n",
       "      <td>3.0</td>\n",
       "      <td>ORIGINAL</td>\n",
       "      <td>True</td>\n",
       "      <td>NaN</td>\n",
       "      <td>60000.0</td>\n",
       "      <td>2020-09-06T06:49:40Z</td>\n",
       "      <td>NaN</td>\n",
       "      <td>100</td>\n",
       "    </tr>\n",
       "    <tr>\n",
       "      <th>2</th>\n",
       "      <td>Универсал 5 дв.</td>\n",
       "      <td>AUDI</td>\n",
       "      <td>0000CC</td>\n",
       "      <td>бензин</td>\n",
       "      <td>1988.0</td>\n",
       "      <td>2.3 MT (136 л.с.) 4WD</td>\n",
       "      <td>5.0</td>\n",
       "      <td>1989</td>\n",
       "      <td>WAGON_5_DOORS MECHANICAL 2.3</td>\n",
       "      <td>MECHANICAL</td>\n",
       "      <td>...</td>\n",
       "      <td>LEFT</td>\n",
       "      <td>NaN</td>\n",
       "      <td>3.0</td>\n",
       "      <td>ORIGINAL</td>\n",
       "      <td>True</td>\n",
       "      <td>NaN</td>\n",
       "      <td>99000.0</td>\n",
       "      <td>2020-09-02T14:04:21Z</td>\n",
       "      <td>NaN</td>\n",
       "      <td>100</td>\n",
       "    </tr>\n",
       "    <tr>\n",
       "      <th>3</th>\n",
       "      <td>Седан</td>\n",
       "      <td>AUDI</td>\n",
       "      <td>CACECB</td>\n",
       "      <td>бензин</td>\n",
       "      <td>1988.0</td>\n",
       "      <td>1.8 MT (90 л.с.)</td>\n",
       "      <td>4.0</td>\n",
       "      <td>1989</td>\n",
       "      <td>SEDAN MECHANICAL 1.8</td>\n",
       "      <td>MECHANICAL</td>\n",
       "      <td>...</td>\n",
       "      <td>LEFT</td>\n",
       "      <td>NaN</td>\n",
       "      <td>3.0</td>\n",
       "      <td>ORIGINAL</td>\n",
       "      <td>True</td>\n",
       "      <td>NaN</td>\n",
       "      <td>65000.0</td>\n",
       "      <td>2020-08-23T17:40:09Z</td>\n",
       "      <td>NaN</td>\n",
       "      <td>100</td>\n",
       "    </tr>\n",
       "    <tr>\n",
       "      <th>4</th>\n",
       "      <td>Седан</td>\n",
       "      <td>AUDI</td>\n",
       "      <td>040001</td>\n",
       "      <td>бензин</td>\n",
       "      <td>1990.0</td>\n",
       "      <td>2.0 MT (101 л.с.)</td>\n",
       "      <td>4.0</td>\n",
       "      <td>1991</td>\n",
       "      <td>SEDAN MECHANICAL 2.0</td>\n",
       "      <td>MECHANICAL</td>\n",
       "      <td>...</td>\n",
       "      <td>LEFT</td>\n",
       "      <td>NaN</td>\n",
       "      <td>3.0</td>\n",
       "      <td>DUPLICATE</td>\n",
       "      <td>True</td>\n",
       "      <td>NaN</td>\n",
       "      <td>100000.0</td>\n",
       "      <td>2020-09-08T09:22:07Z</td>\n",
       "      <td>NaN</td>\n",
       "      <td>100</td>\n",
       "    </tr>\n",
       "  </tbody>\n",
       "</table>\n",
       "<p>5 rows × 26 columns</p>\n",
       "</div>"
      ],
      "text/plain": [
       "          bodyType brand   color fuelType  modelDate                   name  \\\n",
       "0            Седан  AUDI  040001   бензин     1990.0  2.8 MT (174 л.с.) 4WD   \n",
       "1            Седан  AUDI  EE1D19   бензин     1982.0       1.8 MT (90 л.с.)   \n",
       "2  Универсал 5 дв.  AUDI  0000CC   бензин     1988.0  2.3 MT (136 л.с.) 4WD   \n",
       "3            Седан  AUDI  CACECB   бензин     1988.0       1.8 MT (90 л.с.)   \n",
       "4            Седан  AUDI  040001   бензин     1990.0      2.0 MT (101 л.с.)   \n",
       "\n",
       "   numberOfDoors  productionDate          vehicleConfiguration  \\\n",
       "0            4.0            1991          SEDAN MECHANICAL 2.8   \n",
       "1            4.0            1986          SEDAN MECHANICAL 1.8   \n",
       "2            5.0            1989  WAGON_5_DOORS MECHANICAL 2.3   \n",
       "3            4.0            1989          SEDAN MECHANICAL 1.8   \n",
       "4            4.0            1991          SEDAN MECHANICAL 2.0   \n",
       "\n",
       "  vehicleTransmission  ...  Руль  Состояние Владельцы        ПТС Таможня  \\\n",
       "0          MECHANICAL  ...  LEFT        NaN       3.0   ORIGINAL    True   \n",
       "1          MECHANICAL  ...  LEFT        NaN       3.0   ORIGINAL    True   \n",
       "2          MECHANICAL  ...  LEFT        NaN       3.0   ORIGINAL    True   \n",
       "3          MECHANICAL  ...  LEFT        NaN       3.0   ORIGINAL    True   \n",
       "4          MECHANICAL  ...  LEFT        NaN       3.0  DUPLICATE    True   \n",
       "\n",
       "  Владение     price            start_date  hidden model  \n",
       "0      NaN  200000.0  2019-10-03T08:09:11Z     NaN   100  \n",
       "1      NaN   60000.0  2020-09-06T06:49:40Z     NaN   100  \n",
       "2      NaN   99000.0  2020-09-02T14:04:21Z     NaN   100  \n",
       "3      NaN   65000.0  2020-08-23T17:40:09Z     NaN   100  \n",
       "4      NaN  100000.0  2020-09-08T09:22:07Z     NaN   100  \n",
       "\n",
       "[5 rows x 26 columns]"
      ]
     },
     "execution_count": 9,
     "metadata": {},
     "output_type": "execute_result"
    }
   ],
   "source": [
    "train.head()"
   ]
  },
  {
   "cell_type": "code",
   "execution_count": 10,
   "id": "2bf06b7f",
   "metadata": {},
   "outputs": [
    {
     "name": "stdout",
     "output_type": "stream",
     "text": [
      "<class 'pandas.core.frame.DataFrame'>\n",
      "RangeIndex: 89378 entries, 0 to 89377\n",
      "Data columns (total 26 columns):\n",
      " #   Column                Non-Null Count  Dtype  \n",
      "---  ------                --------------  -----  \n",
      " 0   bodyType              89377 non-null  object \n",
      " 1   brand                 89378 non-null  object \n",
      " 2   color                 89378 non-null  object \n",
      " 3   fuelType              89378 non-null  object \n",
      " 4   modelDate             89377 non-null  float64\n",
      " 5   name                  89377 non-null  object \n",
      " 6   numberOfDoors         89377 non-null  float64\n",
      " 7   productionDate        89378 non-null  int64  \n",
      " 8   vehicleConfiguration  89377 non-null  object \n",
      " 9   vehicleTransmission   89377 non-null  object \n",
      " 10  engineDisplacement    89377 non-null  object \n",
      " 11  enginePower           89377 non-null  float64\n",
      " 12  description           86124 non-null  object \n",
      " 13  mileage               89378 non-null  int64  \n",
      " 14  Комплектация          89378 non-null  object \n",
      " 15  Привод                89377 non-null  object \n",
      " 16  Руль                  89378 non-null  object \n",
      " 17  Состояние             0 non-null      float64\n",
      " 18  Владельцы             75790 non-null  float64\n",
      " 19  ПТС                   89017 non-null  object \n",
      " 20  Таможня               89378 non-null  bool   \n",
      " 21  Владение              29201 non-null  object \n",
      " 22  price                 88968 non-null  float64\n",
      " 23  start_date            89378 non-null  object \n",
      " 24  hidden                0 non-null      float64\n",
      " 25  model                 89378 non-null  object \n",
      "dtypes: bool(1), float64(7), int64(2), object(16)\n",
      "memory usage: 17.1+ MB\n"
     ]
    }
   ],
   "source": [
    "train.info()"
   ]
  },
  {
   "cell_type": "code",
   "execution_count": 11,
   "id": "85f93145",
   "metadata": {},
   "outputs": [
    {
     "name": "stdout",
     "output_type": "stream",
     "text": [
      "2014-06-10 06:27:00\n",
      "2020-09-09 10:49:25\n"
     ]
    }
   ],
   "source": [
    "# Дата получения информации в train представленна в признаке start_date, посмотри период сбора информации:\n",
    "# for date in train['start_date']:\n",
    "#  pd.to_datetime(s, format=\"%d%m%Y\", errors=\"coerce\").fillna(pd.to_datetime(s, format=\"%d%b%Y\", errors=\"coerce\"))\n",
    "train['date'] = pd.to_datetime(train['start_date'], format='%Y-%m-%dT%H:%M:%SZ',\n",
    "                               errors=\"coerce\").fillna(pd.to_datetime(train['start_date'],\n",
    "                                                                      format=\"%Y-%m-%dT%H:%M:%S.%fZ\", errors=\"coerce\"))\n",
    "print(train['date'].min())\n",
    "print(train['date'].max())"
   ]
  },
  {
   "cell_type": "code",
   "execution_count": 12,
   "id": "1260a7a3",
   "metadata": {},
   "outputs": [
    {
     "name": "stdout",
     "output_type": "stream",
     "text": [
      "75752\n",
      "59823\n"
     ]
    }
   ],
   "source": [
    "# Посмотрим сколько данных есть за 2020 год\n",
    "print(len(train[train['date'] > '2020-01-01']))\n",
    "# За второе полугодие 2020 года\n",
    "print(len(train[train['date'] > '2020-06-01']))"
   ]
  },
  {
   "cell_type": "markdown",
   "id": "0f9b7460",
   "metadata": {},
   "source": [
    "На основе данных собранных в датасете train и количестве данных за второе полугодие 2020 года. В связи с изменением цен и трудоемкости сборки новых данных посредством парсинга ресурсов, принимаю решение взять для обучения данные представленные в Baseline train."
   ]
  },
  {
   "cell_type": "markdown",
   "id": "3f39ad0e",
   "metadata": {},
   "source": [
    "## Посмотрим какие у нас имеются данные в train\n",
    "#### Датасет состоит из 26 столбцов, содержащих следующую информацию:\n",
    "- bodyType: Тип кузова;\n",
    "- brand: бренд автомобиля;\n",
    "- color: цвет;\n",
    "- fuelType: тип используемого топлива;\n",
    "- modelDate: год выпуска модели;\n",
    "- name : наименование модели с характеристиками;\n",
    "- numberOfDoors : количество дверей;\n",
    "- productionDate: Год производства;\n",
    "- vehicleConfiguration: Тип кузова, тип коробки передач и объем двигателя;\n",
    "- vehicleTransmission: тип коробки передачи;\n",
    "- engineDisplacement: объем двигателя;\n",
    "- enginePower: мощность двигателя;\n",
    "- description: описание;\n",
    "- mileage: пробег;\n",
    "- Комплектация: комплектация автомобиля;\n",
    "- Привод;\n",
    "- Руль;\n",
    "- Состояние;\n",
    "- Владельцы;\n",
    "- ПТС;\n",
    "- Таможня;\n",
    "- Владение;\n",
    "- price: стоимость автомобиля (целевая переменная);\n",
    "- start_date: дата размещения объявления;\n",
    "- hidden: пустой признак;\n",
    "- model: обозначение модели."
   ]
  },
  {
   "cell_type": "markdown",
   "id": "ed126a5a",
   "metadata": {},
   "source": [
    "Для корректной обработки признаков необходимо объединить трейн и тест в один датасет, для этого подготовим и необходимые признаки в train. "
   ]
  },
  {
   "cell_type": "code",
   "execution_count": 13,
   "id": "6eeb168b",
   "metadata": {},
   "outputs": [],
   "source": [
    "# Основываясь на описанном выше для обучения возьму данные за второе полугодие 2020 года.\n",
    "train = train[train['date'] > '2020-06-01']"
   ]
  },
  {
   "cell_type": "code",
   "execution_count": 14,
   "id": "83e6ec2b",
   "metadata": {},
   "outputs": [],
   "source": [
    "# признаки времени в дальнейшей обработки не будут использоваться, избавимся от них и пустого признака hidden\n",
    "train.drop(['date', 'start_date', 'hidden'], axis=1, inplace=True)"
   ]
  },
  {
   "cell_type": "code",
   "execution_count": 15,
   "id": "d881f913",
   "metadata": {},
   "outputs": [],
   "source": [
    "# переименуем признаки train  в соответствии с test\n",
    "train.rename(columns={'Комплектация': 'complectation_dict',\n",
    "                      'model': 'model_name'}, inplace=True)"
   ]
  },
  {
   "cell_type": "code",
   "execution_count": 16,
   "id": "0ff47a7d",
   "metadata": {},
   "outputs": [
    {
     "name": "stdout",
     "output_type": "stream",
     "text": [
      "<class 'pandas.core.frame.DataFrame'>\n",
      "Int64Index: 59823 entries, 1 to 89377\n",
      "Data columns (total 24 columns):\n",
      " #   Column                Non-Null Count  Dtype  \n",
      "---  ------                --------------  -----  \n",
      " 0   bodyType              59823 non-null  object \n",
      " 1   brand                 59823 non-null  object \n",
      " 2   color                 59823 non-null  object \n",
      " 3   fuelType              59823 non-null  object \n",
      " 4   modelDate             59823 non-null  float64\n",
      " 5   name                  59823 non-null  object \n",
      " 6   numberOfDoors         59823 non-null  float64\n",
      " 7   productionDate        59823 non-null  int64  \n",
      " 8   vehicleConfiguration  59823 non-null  object \n",
      " 9   vehicleTransmission   59823 non-null  object \n",
      " 10  engineDisplacement    59823 non-null  object \n",
      " 11  enginePower           59823 non-null  float64\n",
      " 12  description           57977 non-null  object \n",
      " 13  mileage               59823 non-null  int64  \n",
      " 14  complectation_dict    59823 non-null  object \n",
      " 15  Привод                59823 non-null  object \n",
      " 16  Руль                  59823 non-null  object \n",
      " 17  Состояние             0 non-null      float64\n",
      " 18  Владельцы             47209 non-null  float64\n",
      " 19  ПТС                   59540 non-null  object \n",
      " 20  Таможня               59823 non-null  bool   \n",
      " 21  Владение              15822 non-null  object \n",
      " 22  price                 59424 non-null  float64\n",
      " 23  model_name            59823 non-null  object \n",
      "dtypes: bool(1), float64(6), int64(2), object(15)\n",
      "memory usage: 11.0+ MB\n"
     ]
    }
   ],
   "source": [
    "train.info()"
   ]
  },
  {
   "cell_type": "code",
   "execution_count": 17,
   "id": "240d0b3a",
   "metadata": {},
   "outputs": [
    {
     "name": "stdout",
     "output_type": "stream",
     "text": [
      "Имеются дубликаты\n"
     ]
    },
    {
     "data": {
      "text/html": [
       "<div>\n",
       "<style scoped>\n",
       "    .dataframe tbody tr th:only-of-type {\n",
       "        vertical-align: middle;\n",
       "    }\n",
       "\n",
       "    .dataframe tbody tr th {\n",
       "        vertical-align: top;\n",
       "    }\n",
       "\n",
       "    .dataframe thead th {\n",
       "        text-align: right;\n",
       "    }\n",
       "</style>\n",
       "<table border=\"1\" class=\"dataframe\">\n",
       "  <thead>\n",
       "    <tr style=\"text-align: right;\">\n",
       "      <th></th>\n",
       "      <th>bodyType</th>\n",
       "      <th>brand</th>\n",
       "      <th>color</th>\n",
       "      <th>fuelType</th>\n",
       "      <th>modelDate</th>\n",
       "      <th>name</th>\n",
       "      <th>numberOfDoors</th>\n",
       "      <th>productionDate</th>\n",
       "      <th>vehicleConfiguration</th>\n",
       "      <th>vehicleTransmission</th>\n",
       "      <th>...</th>\n",
       "      <th>complectation_dict</th>\n",
       "      <th>Привод</th>\n",
       "      <th>Руль</th>\n",
       "      <th>Состояние</th>\n",
       "      <th>Владельцы</th>\n",
       "      <th>ПТС</th>\n",
       "      <th>Таможня</th>\n",
       "      <th>Владение</th>\n",
       "      <th>price</th>\n",
       "      <th>model_name</th>\n",
       "    </tr>\n",
       "  </thead>\n",
       "  <tbody>\n",
       "    <tr>\n",
       "      <th>38</th>\n",
       "      <td>Седан</td>\n",
       "      <td>AUDI</td>\n",
       "      <td>0000CC</td>\n",
       "      <td>бензин</td>\n",
       "      <td>1990.0</td>\n",
       "      <td>2.3 MT (133 л.с.)</td>\n",
       "      <td>4.0</td>\n",
       "      <td>1992</td>\n",
       "      <td>SEDAN MECHANICAL 2.3</td>\n",
       "      <td>MECHANICAL</td>\n",
       "      <td>...</td>\n",
       "      <td>{'id': '0'}</td>\n",
       "      <td>передний</td>\n",
       "      <td>LEFT</td>\n",
       "      <td>NaN</td>\n",
       "      <td>3.0</td>\n",
       "      <td>DUPLICATE</td>\n",
       "      <td>True</td>\n",
       "      <td>NaN</td>\n",
       "      <td>40000.0</td>\n",
       "      <td>100</td>\n",
       "    </tr>\n",
       "    <tr>\n",
       "      <th>170</th>\n",
       "      <td>Седан</td>\n",
       "      <td>AUDI</td>\n",
       "      <td>040001</td>\n",
       "      <td>бензин</td>\n",
       "      <td>1986.0</td>\n",
       "      <td>1.8 AT (90 л.с.)</td>\n",
       "      <td>4.0</td>\n",
       "      <td>1990</td>\n",
       "      <td>SEDAN AUTOMATIC 1.8</td>\n",
       "      <td>AUTOMATIC</td>\n",
       "      <td>...</td>\n",
       "      <td>{'id': '0'}</td>\n",
       "      <td>передний</td>\n",
       "      <td>LEFT</td>\n",
       "      <td>NaN</td>\n",
       "      <td>3.0</td>\n",
       "      <td>ORIGINAL</td>\n",
       "      <td>True</td>\n",
       "      <td>NaN</td>\n",
       "      <td>70000.0</td>\n",
       "      <td>80</td>\n",
       "    </tr>\n",
       "    <tr>\n",
       "      <th>351</th>\n",
       "      <td>Седан</td>\n",
       "      <td>AUDI</td>\n",
       "      <td>97948F</td>\n",
       "      <td>бензин</td>\n",
       "      <td>2016.0</td>\n",
       "      <td>1.4 AMT (150 л.с.)</td>\n",
       "      <td>4.0</td>\n",
       "      <td>2020</td>\n",
       "      <td>SEDAN ROBOT 1.4</td>\n",
       "      <td>ROBOT</td>\n",
       "      <td>...</td>\n",
       "      <td>{'id': '21597097', 'name': '35 TFSI S tronic',...</td>\n",
       "      <td>передний</td>\n",
       "      <td>LEFT</td>\n",
       "      <td>NaN</td>\n",
       "      <td>NaN</td>\n",
       "      <td>ORIGINAL</td>\n",
       "      <td>True</td>\n",
       "      <td>NaN</td>\n",
       "      <td>1946000.0</td>\n",
       "      <td>A3</td>\n",
       "    </tr>\n",
       "    <tr>\n",
       "      <th>369</th>\n",
       "      <td>Седан</td>\n",
       "      <td>AUDI</td>\n",
       "      <td>97948F</td>\n",
       "      <td>бензин</td>\n",
       "      <td>2016.0</td>\n",
       "      <td>1.4 AMT (150 л.с.)</td>\n",
       "      <td>4.0</td>\n",
       "      <td>2020</td>\n",
       "      <td>SEDAN ROBOT 1.4</td>\n",
       "      <td>ROBOT</td>\n",
       "      <td>...</td>\n",
       "      <td>{'id': '20838807', 'name': 'Basis', 'available...</td>\n",
       "      <td>передний</td>\n",
       "      <td>LEFT</td>\n",
       "      <td>NaN</td>\n",
       "      <td>NaN</td>\n",
       "      <td>ORIGINAL</td>\n",
       "      <td>True</td>\n",
       "      <td>NaN</td>\n",
       "      <td>1885400.0</td>\n",
       "      <td>A3</td>\n",
       "    </tr>\n",
       "    <tr>\n",
       "      <th>387</th>\n",
       "      <td>Седан</td>\n",
       "      <td>AUDI</td>\n",
       "      <td>97948F</td>\n",
       "      <td>бензин</td>\n",
       "      <td>2016.0</td>\n",
       "      <td>1.4 AMT (150 л.с.)</td>\n",
       "      <td>4.0</td>\n",
       "      <td>2020</td>\n",
       "      <td>SEDAN ROBOT 1.4</td>\n",
       "      <td>ROBOT</td>\n",
       "      <td>...</td>\n",
       "      <td>{'id': '20838807', 'name': 'Basis', 'available...</td>\n",
       "      <td>передний</td>\n",
       "      <td>LEFT</td>\n",
       "      <td>NaN</td>\n",
       "      <td>NaN</td>\n",
       "      <td>ORIGINAL</td>\n",
       "      <td>True</td>\n",
       "      <td>NaN</td>\n",
       "      <td>1885400.0</td>\n",
       "      <td>A3</td>\n",
       "    </tr>\n",
       "    <tr>\n",
       "      <th>...</th>\n",
       "      <td>...</td>\n",
       "      <td>...</td>\n",
       "      <td>...</td>\n",
       "      <td>...</td>\n",
       "      <td>...</td>\n",
       "      <td>...</td>\n",
       "      <td>...</td>\n",
       "      <td>...</td>\n",
       "      <td>...</td>\n",
       "      <td>...</td>\n",
       "      <td>...</td>\n",
       "      <td>...</td>\n",
       "      <td>...</td>\n",
       "      <td>...</td>\n",
       "      <td>...</td>\n",
       "      <td>...</td>\n",
       "      <td>...</td>\n",
       "      <td>...</td>\n",
       "      <td>...</td>\n",
       "      <td>...</td>\n",
       "      <td>...</td>\n",
       "    </tr>\n",
       "    <tr>\n",
       "      <th>88705</th>\n",
       "      <td>Внедорожник 5 дв.</td>\n",
       "      <td>SSANG_YONG</td>\n",
       "      <td>97948F</td>\n",
       "      <td>дизель</td>\n",
       "      <td>2010.0</td>\n",
       "      <td>2.0d AT (175 л.с.)</td>\n",
       "      <td>5.0</td>\n",
       "      <td>2011</td>\n",
       "      <td>ALLROAD_5_DOORS AUTOMATIC 2.0d</td>\n",
       "      <td>AUTOMATIC</td>\n",
       "      <td>...</td>\n",
       "      <td>{'id': '0'}</td>\n",
       "      <td>передний</td>\n",
       "      <td>LEFT</td>\n",
       "      <td>NaN</td>\n",
       "      <td>3.0</td>\n",
       "      <td>ORIGINAL</td>\n",
       "      <td>True</td>\n",
       "      <td>NaN</td>\n",
       "      <td>530000.0</td>\n",
       "      <td>ACTYON</td>\n",
       "    </tr>\n",
       "    <tr>\n",
       "      <th>88796</th>\n",
       "      <td>Внедорожник 5 дв.</td>\n",
       "      <td>SSANG_YONG</td>\n",
       "      <td>CACECB</td>\n",
       "      <td>бензин</td>\n",
       "      <td>2010.0</td>\n",
       "      <td>2.0 MT (149 л.с.) 4WD</td>\n",
       "      <td>5.0</td>\n",
       "      <td>2013</td>\n",
       "      <td>ALLROAD_5_DOORS MECHANICAL 2.0</td>\n",
       "      <td>MECHANICAL</td>\n",
       "      <td>...</td>\n",
       "      <td>{'id': '7958369', 'name': 'Original', 'availab...</td>\n",
       "      <td>полный</td>\n",
       "      <td>LEFT</td>\n",
       "      <td>NaN</td>\n",
       "      <td>1.0</td>\n",
       "      <td>ORIGINAL</td>\n",
       "      <td>True</td>\n",
       "      <td>NaN</td>\n",
       "      <td>543000.0</td>\n",
       "      <td>ACTYON</td>\n",
       "    </tr>\n",
       "    <tr>\n",
       "      <th>89016</th>\n",
       "      <td>Внедорожник 5 дв.</td>\n",
       "      <td>SSANG_YONG</td>\n",
       "      <td>97948F</td>\n",
       "      <td>дизель</td>\n",
       "      <td>2007.0</td>\n",
       "      <td>6-speed 2.0d AT (141 л.с.) 4WD</td>\n",
       "      <td>5.0</td>\n",
       "      <td>2013</td>\n",
       "      <td>ALLROAD_5_DOORS AUTOMATIC 6-speed</td>\n",
       "      <td>AUTOMATIC</td>\n",
       "      <td>...</td>\n",
       "      <td>{'id': '7864744', 'name': 'Luxury', 'available...</td>\n",
       "      <td>полный</td>\n",
       "      <td>LEFT</td>\n",
       "      <td>NaN</td>\n",
       "      <td>1.0</td>\n",
       "      <td>ORIGINAL</td>\n",
       "      <td>True</td>\n",
       "      <td>NaN</td>\n",
       "      <td>645000.0</td>\n",
       "      <td>KYRON</td>\n",
       "    </tr>\n",
       "    <tr>\n",
       "      <th>89017</th>\n",
       "      <td>Внедорожник 5 дв.</td>\n",
       "      <td>SSANG_YONG</td>\n",
       "      <td>97948F</td>\n",
       "      <td>дизель</td>\n",
       "      <td>2005.0</td>\n",
       "      <td>2.0d AT (141 л.с.) 4WD</td>\n",
       "      <td>5.0</td>\n",
       "      <td>2007</td>\n",
       "      <td>ALLROAD_5_DOORS AUTOMATIC 2.0d</td>\n",
       "      <td>AUTOMATIC</td>\n",
       "      <td>...</td>\n",
       "      <td>{'id': '0'}</td>\n",
       "      <td>полный</td>\n",
       "      <td>LEFT</td>\n",
       "      <td>NaN</td>\n",
       "      <td>1.0</td>\n",
       "      <td>ORIGINAL</td>\n",
       "      <td>True</td>\n",
       "      <td>NaN</td>\n",
       "      <td>395000.0</td>\n",
       "      <td>KYRON</td>\n",
       "    </tr>\n",
       "    <tr>\n",
       "      <th>89317</th>\n",
       "      <td>Внедорожник 5 дв.</td>\n",
       "      <td>SSANG_YONG</td>\n",
       "      <td>200204</td>\n",
       "      <td>дизель</td>\n",
       "      <td>2006.0</td>\n",
       "      <td>2.7d MT (163 л.с.) 4WD</td>\n",
       "      <td>5.0</td>\n",
       "      <td>2009</td>\n",
       "      <td>ALLROAD_5_DOORS MECHANICAL 2.7d</td>\n",
       "      <td>MECHANICAL</td>\n",
       "      <td>...</td>\n",
       "      <td>{'id': '7864524', 'name': 'Original', 'availab...</td>\n",
       "      <td>полный</td>\n",
       "      <td>LEFT</td>\n",
       "      <td>NaN</td>\n",
       "      <td>2.0</td>\n",
       "      <td>ORIGINAL</td>\n",
       "      <td>True</td>\n",
       "      <td>NaN</td>\n",
       "      <td>524000.0</td>\n",
       "      <td>REXTON</td>\n",
       "    </tr>\n",
       "  </tbody>\n",
       "</table>\n",
       "<p>3239 rows × 24 columns</p>\n",
       "</div>"
      ],
      "text/plain": [
       "                bodyType       brand   color fuelType  modelDate  \\\n",
       "38                 Седан        AUDI  0000CC   бензин     1990.0   \n",
       "170                Седан        AUDI  040001   бензин     1986.0   \n",
       "351                Седан        AUDI  97948F   бензин     2016.0   \n",
       "369                Седан        AUDI  97948F   бензин     2016.0   \n",
       "387                Седан        AUDI  97948F   бензин     2016.0   \n",
       "...                  ...         ...     ...      ...        ...   \n",
       "88705  Внедорожник 5 дв.  SSANG_YONG  97948F   дизель     2010.0   \n",
       "88796  Внедорожник 5 дв.  SSANG_YONG  CACECB   бензин     2010.0   \n",
       "89016  Внедорожник 5 дв.  SSANG_YONG  97948F   дизель     2007.0   \n",
       "89017  Внедорожник 5 дв.  SSANG_YONG  97948F   дизель     2005.0   \n",
       "89317  Внедорожник 5 дв.  SSANG_YONG  200204   дизель     2006.0   \n",
       "\n",
       "                                 name  numberOfDoors  productionDate  \\\n",
       "38                  2.3 MT (133 л.с.)            4.0            1992   \n",
       "170                  1.8 AT (90 л.с.)            4.0            1990   \n",
       "351                1.4 AMT (150 л.с.)            4.0            2020   \n",
       "369                1.4 AMT (150 л.с.)            4.0            2020   \n",
       "387                1.4 AMT (150 л.с.)            4.0            2020   \n",
       "...                               ...            ...             ...   \n",
       "88705              2.0d AT (175 л.с.)            5.0            2011   \n",
       "88796           2.0 MT (149 л.с.) 4WD            5.0            2013   \n",
       "89016  6-speed 2.0d AT (141 л.с.) 4WD            5.0            2013   \n",
       "89017          2.0d AT (141 л.с.) 4WD            5.0            2007   \n",
       "89317          2.7d MT (163 л.с.) 4WD            5.0            2009   \n",
       "\n",
       "                    vehicleConfiguration vehicleTransmission  ...  \\\n",
       "38                  SEDAN MECHANICAL 2.3          MECHANICAL  ...   \n",
       "170                  SEDAN AUTOMATIC 1.8           AUTOMATIC  ...   \n",
       "351                      SEDAN ROBOT 1.4               ROBOT  ...   \n",
       "369                      SEDAN ROBOT 1.4               ROBOT  ...   \n",
       "387                      SEDAN ROBOT 1.4               ROBOT  ...   \n",
       "...                                  ...                 ...  ...   \n",
       "88705     ALLROAD_5_DOORS AUTOMATIC 2.0d           AUTOMATIC  ...   \n",
       "88796     ALLROAD_5_DOORS MECHANICAL 2.0          MECHANICAL  ...   \n",
       "89016  ALLROAD_5_DOORS AUTOMATIC 6-speed           AUTOMATIC  ...   \n",
       "89017     ALLROAD_5_DOORS AUTOMATIC 2.0d           AUTOMATIC  ...   \n",
       "89317    ALLROAD_5_DOORS MECHANICAL 2.7d          MECHANICAL  ...   \n",
       "\n",
       "                                      complectation_dict    Привод  Руль  \\\n",
       "38                                           {'id': '0'}  передний  LEFT   \n",
       "170                                          {'id': '0'}  передний  LEFT   \n",
       "351    {'id': '21597097', 'name': '35 TFSI S tronic',...  передний  LEFT   \n",
       "369    {'id': '20838807', 'name': 'Basis', 'available...  передний  LEFT   \n",
       "387    {'id': '20838807', 'name': 'Basis', 'available...  передний  LEFT   \n",
       "...                                                  ...       ...   ...   \n",
       "88705                                        {'id': '0'}  передний  LEFT   \n",
       "88796  {'id': '7958369', 'name': 'Original', 'availab...    полный  LEFT   \n",
       "89016  {'id': '7864744', 'name': 'Luxury', 'available...    полный  LEFT   \n",
       "89017                                        {'id': '0'}    полный  LEFT   \n",
       "89317  {'id': '7864524', 'name': 'Original', 'availab...    полный  LEFT   \n",
       "\n",
       "       Состояние Владельцы        ПТС Таможня  Владение      price model_name  \n",
       "38           NaN       3.0  DUPLICATE    True       NaN    40000.0        100  \n",
       "170          NaN       3.0   ORIGINAL    True       NaN    70000.0         80  \n",
       "351          NaN       NaN   ORIGINAL    True       NaN  1946000.0         A3  \n",
       "369          NaN       NaN   ORIGINAL    True       NaN  1885400.0         A3  \n",
       "387          NaN       NaN   ORIGINAL    True       NaN  1885400.0         A3  \n",
       "...          ...       ...        ...     ...       ...        ...        ...  \n",
       "88705        NaN       3.0   ORIGINAL    True       NaN   530000.0     ACTYON  \n",
       "88796        NaN       1.0   ORIGINAL    True       NaN   543000.0     ACTYON  \n",
       "89016        NaN       1.0   ORIGINAL    True       NaN   645000.0      KYRON  \n",
       "89017        NaN       1.0   ORIGINAL    True       NaN   395000.0      KYRON  \n",
       "89317        NaN       2.0   ORIGINAL    True       NaN   524000.0     REXTON  \n",
       "\n",
       "[3239 rows x 24 columns]"
      ]
     },
     "metadata": {},
     "output_type": "display_data"
    }
   ],
   "source": [
    "# Проверим наличие дубликатов в тренировочных данных\n",
    "duplicate_data(train)"
   ]
  },
  {
   "cell_type": "code",
   "execution_count": 18,
   "id": "66c02111",
   "metadata": {},
   "outputs": [],
   "source": [
    "# удалим дубликаты в тренировочных данных\n",
    "train = train.drop_duplicates()"
   ]
  },
  {
   "cell_type": "code",
   "execution_count": 19,
   "id": "f060ee3b",
   "metadata": {},
   "outputs": [
    {
     "name": "stdout",
     "output_type": "stream",
     "text": [
      "Дубликатов не обнаружено\n"
     ]
    }
   ],
   "source": [
    "# Проверим наличие дубликатов в тестовых данных\n",
    "duplicate_data(test)"
   ]
  },
  {
   "cell_type": "code",
   "execution_count": 82,
   "id": "69482ed8",
   "metadata": {},
   "outputs": [],
   "source": [
    "# Для удобства обработки признаков объединяем тренировочные и тестовые данные в один датасет\n",
    "train['sample'] = 1  # помечаем где тренировочные данные\n",
    "test['sample'] = 0  # помечаем где тестовые данные\n",
    "# в тестовых данных нет значения price, мы его должны предсказать, поэтому пока просто заполняем нулями\n",
    "test['price'] = 0\n",
    "# для дальнейшей обработки возьму все схожие признаки\n",
    "columns = list(train)\n",
    "df_train = train[columns]\n",
    "df_test = test[columns]\n",
    "# Для удобства обработки признаков объединяем тренировочные и тестовые данные в один датасет\n",
    "data = df_test.append(df_train, sort=False).reset_index(\n",
    "    drop=True)  # объединяем"
   ]
  },
  {
   "cell_type": "code",
   "execution_count": 83,
   "id": "f6c08e46",
   "metadata": {},
   "outputs": [
    {
     "name": "stdout",
     "output_type": "stream",
     "text": [
      "<class 'pandas.core.frame.DataFrame'>\n",
      "RangeIndex: 91270 entries, 0 to 91269\n",
      "Data columns (total 25 columns):\n",
      " #   Column                Non-Null Count  Dtype  \n",
      "---  ------                --------------  -----  \n",
      " 0   bodyType              91270 non-null  object \n",
      " 1   brand                 91270 non-null  object \n",
      " 2   color                 91270 non-null  object \n",
      " 3   fuelType              91270 non-null  object \n",
      " 4   modelDate             91270 non-null  float64\n",
      " 5   name                  91270 non-null  object \n",
      " 6   numberOfDoors         91270 non-null  float64\n",
      " 7   productionDate        91270 non-null  int64  \n",
      " 8   vehicleConfiguration  91270 non-null  object \n",
      " 9   vehicleTransmission   91270 non-null  object \n",
      " 10  engineDisplacement    91270 non-null  object \n",
      " 11  enginePower           91270 non-null  object \n",
      " 12  description           89443 non-null  object \n",
      " 13  mileage               91270 non-null  int64  \n",
      " 14  complectation_dict    63002 non-null  object \n",
      " 15  Привод                91270 non-null  object \n",
      " 16  Руль                  91270 non-null  object \n",
      " 17  Состояние             34686 non-null  object \n",
      " 18  Владельцы             81473 non-null  object \n",
      " 19  ПТС                   90997 non-null  object \n",
      " 20  Таможня               91270 non-null  object \n",
      " 21  Владение              27668 non-null  object \n",
      " 22  price                 90871 non-null  float64\n",
      " 23  model_name            91270 non-null  object \n",
      " 24  sample                91270 non-null  int64  \n",
      "dtypes: float64(3), int64(3), object(19)\n",
      "memory usage: 17.4+ MB\n"
     ]
    }
   ],
   "source": [
    "data.info()"
   ]
  },
  {
   "cell_type": "code",
   "execution_count": 84,
   "id": "ffc02efc",
   "metadata": {
    "scrolled": true
   },
   "outputs": [
    {
     "data": {
      "text/plain": [
       "bodyType                  177\n",
       "brand                      36\n",
       "color                      32\n",
       "fuelType                    5\n",
       "modelDate                  71\n",
       "name                     4330\n",
       "numberOfDoors               5\n",
       "productionDate             73\n",
       "vehicleConfiguration     1815\n",
       "vehicleTransmission         8\n",
       "engineDisplacement        540\n",
       "enginePower               692\n",
       "description             77993\n",
       "mileage                 21767\n",
       "complectation_dict       7051\n",
       "Привод                      3\n",
       "Руль                        4\n",
       "Состояние                   2\n",
       "Владельцы                   7\n",
       "ПТС                         5\n",
       "Таможня                     2\n",
       "Владение                  531\n",
       "price                    7425\n",
       "model_name               1021\n",
       "sample                      2\n",
       "dtype: int64"
      ]
     },
     "execution_count": 84,
     "metadata": {},
     "output_type": "execute_result"
    }
   ],
   "source": [
    "# Посмотрим какие типы признаков у нас могут быть:\n",
    "data.nunique(dropna=False)"
   ]
  },
  {
   "cell_type": "code",
   "execution_count": 85,
   "id": "c300c1e1",
   "metadata": {},
   "outputs": [
    {
     "name": "stdout",
     "output_type": "stream",
     "text": [
      "description - 1827 value(s), 2.00%\n",
      "complectation_dict - 28268 value(s), 30.97%\n",
      "Состояние - 56584 value(s), 62.00%\n",
      "Владельцы - 9797 value(s), 10.73%\n",
      "ПТС - 273 value(s), 0.30%\n",
      "Владение - 63602 value(s), 69.69%\n",
      "price - 399 value(s), 0.44%\n"
     ]
    },
    {
     "data": {
      "text/plain": [
       "<AxesSubplot:>"
      ]
     },
     "execution_count": 85,
     "metadata": {},
     "output_type": "execute_result"
    },
    {
     "data": {
      "image/png": "[encoded data removed]",
      "text/plain": [
       "<Figure size 432x288 with 1 Axes>"
      ]
     },
     "metadata": {
      "needs_background": "light"
     },
     "output_type": "display_data"
    }
   ],
   "source": [
    "# Проверим данные на наличие пропусков:\n",
    "missing_data(data)\n",
    "# Посмотри наглядно на их распределения\n",
    "sns.heatmap(data.isnull(), yticklabels=False,\n",
    "            cbar=False, cmap='viridis')"
   ]
  },
  {
   "cell_type": "markdown",
   "id": "2cc1d3d8",
   "metadata": {},
   "source": [
    "### Сформулируем выводы:\n",
    "\n",
    "- в данных представлено 24 признаков (25-й sample мы не считаем, так как он был искусствено создан для удобства разделения обучающей и тестовой выборки)\n",
    "- в объединенном датасете 91270 наблюдений\n",
    "- дубликаты присутствуют в train: 3239. Принял решение удалить их.\n",
    "- имеются пропуски только в 7 признаках - description - 1827 value(s), 2.00%; complectation_dict - 28268 value(s), 30.97%; Состояние - 56584 value(s), 62.00%; Владельцы - 9797 value(s), 10.73%; ПТС - 273 value(s), 0.30%; Владение - 63602 value(s), 69.69%; price - 399 value(s), 0.44%. Рассмотрим их далее."
   ]
  },
  {
   "cell_type": "markdown",
   "id": "649cca92",
   "metadata": {},
   "source": [
    "# Рассмотрим признаки"
   ]
  },
  {
   "cell_type": "code",
   "execution_count": 86,
   "id": "90ade1ae",
   "metadata": {},
   "outputs": [],
   "source": [
    "# Для упрощения дальнейшей работы создадим типовые списки признаков\n",
    "df_cols = list(test)\n",
    "num_cols = ['mileage', 'modelDate', 'numberOfDoors',\n",
    "            'productionDate', 'price']  # 4 признака и целевое значение\n",
    "bin_cols = ['ПТС', 'Руль', 'Состояние', 'Таможня']  # 4 призанка\n",
    "cat_cols = ['bodyType', 'brand', 'color', 'fuelType',  'name',\n",
    "            'vehicleConfiguration', 'vehicleTransmission', 'engineDisplacement',\n",
    "            'enginePower', 'description', 'complectation_dict',\n",
    "            'model_name', 'Владельцы', 'Владение', 'Привод']  # 15 признаков"
   ]
  },
  {
   "cell_type": "markdown",
   "id": "3d8c496e",
   "metadata": {},
   "source": [
    "# Работа с числовыми признаками"
   ]
  },
  {
   "cell_type": "code",
   "execution_count": 87,
   "id": "4062fe56",
   "metadata": {},
   "outputs": [],
   "source": [
    "# Как мы опредилили ранее в числовых признаках имеются пропуски в 'price'.\n",
    "# Так как это целевая переменная необходимая для обучения, избавимся от пропусков методом удаления\n",
    "data.dropna(subset=['price'], inplace=True)"
   ]
  },
  {
   "cell_type": "code",
   "execution_count": 88,
   "id": "0dc5efeb",
   "metadata": {},
   "outputs": [
    {
     "data": {
      "text/html": [
       "<div>\n",
       "<style scoped>\n",
       "    .dataframe tbody tr th:only-of-type {\n",
       "        vertical-align: middle;\n",
       "    }\n",
       "\n",
       "    .dataframe tbody tr th {\n",
       "        vertical-align: top;\n",
       "    }\n",
       "\n",
       "    .dataframe thead th {\n",
       "        text-align: right;\n",
       "    }\n",
       "</style>\n",
       "<table border=\"1\" class=\"dataframe\">\n",
       "  <thead>\n",
       "    <tr style=\"text-align: right;\">\n",
       "      <th></th>\n",
       "      <th>mileage</th>\n",
       "      <th>modelDate</th>\n",
       "      <th>numberOfDoors</th>\n",
       "      <th>productionDate</th>\n",
       "      <th>price</th>\n",
       "    </tr>\n",
       "  </thead>\n",
       "  <tbody>\n",
       "    <tr>\n",
       "      <th>0</th>\n",
       "      <td>74000</td>\n",
       "      <td>2013.0</td>\n",
       "      <td>5.0</td>\n",
       "      <td>2014</td>\n",
       "      <td>0.0</td>\n",
       "    </tr>\n",
       "    <tr>\n",
       "      <th>1</th>\n",
       "      <td>60563</td>\n",
       "      <td>2017.0</td>\n",
       "      <td>5.0</td>\n",
       "      <td>2017</td>\n",
       "      <td>0.0</td>\n",
       "    </tr>\n",
       "    <tr>\n",
       "      <th>2</th>\n",
       "      <td>88000</td>\n",
       "      <td>2013.0</td>\n",
       "      <td>5.0</td>\n",
       "      <td>2014</td>\n",
       "      <td>0.0</td>\n",
       "    </tr>\n",
       "    <tr>\n",
       "      <th>3</th>\n",
       "      <td>95000</td>\n",
       "      <td>2013.0</td>\n",
       "      <td>5.0</td>\n",
       "      <td>2014</td>\n",
       "      <td>0.0</td>\n",
       "    </tr>\n",
       "    <tr>\n",
       "      <th>4</th>\n",
       "      <td>58536</td>\n",
       "      <td>2008.0</td>\n",
       "      <td>5.0</td>\n",
       "      <td>2012</td>\n",
       "      <td>0.0</td>\n",
       "    </tr>\n",
       "  </tbody>\n",
       "</table>\n",
       "</div>"
      ],
      "text/plain": [
       "   mileage  modelDate  numberOfDoors  productionDate  price\n",
       "0    74000     2013.0            5.0            2014    0.0\n",
       "1    60563     2017.0            5.0            2017    0.0\n",
       "2    88000     2013.0            5.0            2014    0.0\n",
       "3    95000     2013.0            5.0            2014    0.0\n",
       "4    58536     2008.0            5.0            2012    0.0"
      ]
     },
     "execution_count": 88,
     "metadata": {},
     "output_type": "execute_result"
    }
   ],
   "source": [
    "data[num_cols].head()"
   ]
  },
  {
   "cell_type": "code",
   "execution_count": 89,
   "id": "977a90a2",
   "metadata": {},
   "outputs": [
    {
     "name": "stdout",
     "output_type": "stream",
     "text": [
      "Наименование признака: mileage\n",
      "25-й перцентиль: 43100.0 75-й перцентиль: 187000.0, IQR: 143900.0,  Границы выбросов: [-172750.0, 402850.0].\n",
      "Выбросов, согласно IQR: 655 | 1.17%\n",
      "========================================\n",
      "Наименование признака: modelDate\n",
      "25-й перцентиль: 2005.0 75-й перцентиль: 2015.0, IQR: 10.0,  Границы выбросов: [1990.0, 2030.0].\n",
      "Выбросов, согласно IQR: 765 | 1.36%\n",
      "========================================\n",
      "Наименование признака: numberOfDoors\n",
      "25-й перцентиль: 4.0 75-й перцентиль: 5.0, IQR: 1.0,  Границы выбросов: [2.5, 6.5].\n",
      "Выбросов, согласно IQR: 1164 | 2.07%\n",
      "========================================\n",
      "Наименование признака: productionDate\n",
      "25-й перцентиль: 2007.0 75-й перцентиль: 2017.0, IQR: 10.0,  Границы выбросов: [1992.0, 2032.0].\n",
      "Выбросов, согласно IQR: 613 | 1.09%\n",
      "========================================\n",
      "Наименование признака: price\n",
      "25-й перцентиль: 370000.0 75-й перцентиль: 1670000.0, IQR: 1300000.0,  Границы выбросов: [-1580000.0, 3620000.0].\n",
      "Выбросов, согласно IQR: 4953 | 8.82%\n",
      "========================================\n"
     ]
    },
    {
     "data": {
      "image/png": "[encoded data removed]",
      "text/plain": [
       "<Figure size 1296x1080 with 6 Axes>"
      ]
     },
     "metadata": {
      "needs_background": "light"
     },
     "output_type": "display_data"
    }
   ],
   "source": [
    "# Проведем анализ для выявления выбросов числовых признаков, для наглядности постоим boxplot:\n",
    "fig, axes = plt.subplots(3, 2, figsize=(18, 15))\n",
    "for i, column in enumerate(num_cols):\n",
    "    sns.boxplot(x=data.query('sample == 1')[column],\n",
    "                ax=axes.flat[i],\n",
    "                showmeans=True,\n",
    "                meanline=True,\n",
    "                orient='h')\n",
    "    IQR_outlier(data.query('sample == 1'), column)\n",
    "    print('=='*20)"
   ]
  },
  {
   "cell_type": "code",
   "execution_count": 90,
   "id": "b3d521dd",
   "metadata": {},
   "outputs": [
    {
     "name": "stderr",
     "output_type": "stream",
     "text": [
      "C:\\ProgramData\\Anaconda3\\lib\\site-packages\\seaborn\\distributions.py:2557: FutureWarning: `distplot` is a deprecated function and will be removed in a future version. Please adapt your code to use either `displot` (a figure-level function with similar flexibility) or `histplot` (an axes-level function for histograms).\n",
      "  warnings.warn(msg, FutureWarning)\n",
      "C:\\ProgramData\\Anaconda3\\lib\\site-packages\\seaborn\\distributions.py:1657: FutureWarning: The `bw` parameter is deprecated in favor of `bw_method` and `bw_adjust`. Using 0.55 for `bw_method`, but please see the docs for the new parameters and update your code.\n",
      "  warnings.warn(msg, FutureWarning)\n",
      "C:\\ProgramData\\Anaconda3\\lib\\site-packages\\seaborn\\distributions.py:2557: FutureWarning: `distplot` is a deprecated function and will be removed in a future version. Please adapt your code to use either `displot` (a figure-level function with similar flexibility) or `histplot` (an axes-level function for histograms).\n",
      "  warnings.warn(msg, FutureWarning)\n",
      "C:\\ProgramData\\Anaconda3\\lib\\site-packages\\seaborn\\distributions.py:1657: FutureWarning: The `bw` parameter is deprecated in favor of `bw_method` and `bw_adjust`. Using 0.55 for `bw_method`, but please see the docs for the new parameters and update your code.\n",
      "  warnings.warn(msg, FutureWarning)\n",
      "C:\\ProgramData\\Anaconda3\\lib\\site-packages\\seaborn\\distributions.py:2557: FutureWarning: `distplot` is a deprecated function and will be removed in a future version. Please adapt your code to use either `displot` (a figure-level function with similar flexibility) or `histplot` (an axes-level function for histograms).\n",
      "  warnings.warn(msg, FutureWarning)\n",
      "C:\\ProgramData\\Anaconda3\\lib\\site-packages\\seaborn\\distributions.py:1657: FutureWarning: The `bw` parameter is deprecated in favor of `bw_method` and `bw_adjust`. Using 0.55 for `bw_method`, but please see the docs for the new parameters and update your code.\n",
      "  warnings.warn(msg, FutureWarning)\n",
      "C:\\ProgramData\\Anaconda3\\lib\\site-packages\\seaborn\\distributions.py:2557: FutureWarning: `distplot` is a deprecated function and will be removed in a future version. Please adapt your code to use either `displot` (a figure-level function with similar flexibility) or `histplot` (an axes-level function for histograms).\n",
      "  warnings.warn(msg, FutureWarning)\n",
      "C:\\ProgramData\\Anaconda3\\lib\\site-packages\\seaborn\\distributions.py:1657: FutureWarning: The `bw` parameter is deprecated in favor of `bw_method` and `bw_adjust`. Using 0.55 for `bw_method`, but please see the docs for the new parameters and update your code.\n",
      "  warnings.warn(msg, FutureWarning)\n",
      "C:\\ProgramData\\Anaconda3\\lib\\site-packages\\seaborn\\distributions.py:2557: FutureWarning: `distplot` is a deprecated function and will be removed in a future version. Please adapt your code to use either `displot` (a figure-level function with similar flexibility) or `histplot` (an axes-level function for histograms).\n",
      "  warnings.warn(msg, FutureWarning)\n",
      "C:\\ProgramData\\Anaconda3\\lib\\site-packages\\seaborn\\distributions.py:1657: FutureWarning: The `bw` parameter is deprecated in favor of `bw_method` and `bw_adjust`. Using 0.55 for `bw_method`, but please see the docs for the new parameters and update your code.\n",
      "  warnings.warn(msg, FutureWarning)\n"
     ]
    },
    {
     "data": {
      "image/png": "[encoded data removed]",
      "text/plain": [
       "<Figure size 1296x1080 with 6 Axes>"
      ]
     },
     "metadata": {
      "needs_background": "light"
     },
     "output_type": "display_data"
    }
   ],
   "source": [
    "# Посмотрим на распределение признаков\n",
    "fig, axes = plt.subplots(3, 2, figsize=(18, 15))\n",
    "for i, col in enumerate(num_cols):\n",
    "    sns.distplot(data.query('sample == 1')[\n",
    "                 col], ax=axes.flat[i], bins=50, kde_kws={'bw': 0.55})"
   ]
  },
  {
   "cell_type": "code",
   "execution_count": 91,
   "id": "627247cc",
   "metadata": {},
   "outputs": [
    {
     "data": {
      "text/html": [
       "<div>\n",
       "<style scoped>\n",
       "    .dataframe tbody tr th:only-of-type {\n",
       "        vertical-align: middle;\n",
       "    }\n",
       "\n",
       "    .dataframe tbody tr th {\n",
       "        vertical-align: top;\n",
       "    }\n",
       "\n",
       "    .dataframe thead th {\n",
       "        text-align: right;\n",
       "    }\n",
       "</style>\n",
       "<table border=\"1\" class=\"dataframe\">\n",
       "  <thead>\n",
       "    <tr style=\"text-align: right;\">\n",
       "      <th></th>\n",
       "      <th>mileage</th>\n",
       "      <th>modelDate</th>\n",
       "      <th>numberOfDoors</th>\n",
       "      <th>productionDate</th>\n",
       "      <th>price</th>\n",
       "    </tr>\n",
       "  </thead>\n",
       "  <tbody>\n",
       "    <tr>\n",
       "      <th>count</th>\n",
       "      <td>56185.000000</td>\n",
       "      <td>56185.000000</td>\n",
       "      <td>56185.000000</td>\n",
       "      <td>56185.000000</td>\n",
       "      <td>5.618500e+04</td>\n",
       "    </tr>\n",
       "    <tr>\n",
       "      <th>mean</th>\n",
       "      <td>127454.756056</td>\n",
       "      <td>2009.167838</td>\n",
       "      <td>4.517914</td>\n",
       "      <td>2011.441648</td>\n",
       "      <td>1.407421e+06</td>\n",
       "    </tr>\n",
       "    <tr>\n",
       "      <th>std</th>\n",
       "      <td>102529.599701</td>\n",
       "      <td>7.232356</td>\n",
       "      <td>0.650390</td>\n",
       "      <td>6.839444</td>\n",
       "      <td>2.004440e+06</td>\n",
       "    </tr>\n",
       "    <tr>\n",
       "      <th>min</th>\n",
       "      <td>0.000000</td>\n",
       "      <td>1908.000000</td>\n",
       "      <td>2.000000</td>\n",
       "      <td>1924.000000</td>\n",
       "      <td>1.600000e+04</td>\n",
       "    </tr>\n",
       "    <tr>\n",
       "      <th>25%</th>\n",
       "      <td>43100.000000</td>\n",
       "      <td>2005.000000</td>\n",
       "      <td>4.000000</td>\n",
       "      <td>2007.000000</td>\n",
       "      <td>3.700000e+05</td>\n",
       "    </tr>\n",
       "    <tr>\n",
       "      <th>50%</th>\n",
       "      <td>121924.000000</td>\n",
       "      <td>2010.000000</td>\n",
       "      <td>5.000000</td>\n",
       "      <td>2012.000000</td>\n",
       "      <td>7.000000e+05</td>\n",
       "    </tr>\n",
       "    <tr>\n",
       "      <th>75%</th>\n",
       "      <td>187000.000000</td>\n",
       "      <td>2015.000000</td>\n",
       "      <td>5.000000</td>\n",
       "      <td>2017.000000</td>\n",
       "      <td>1.670000e+06</td>\n",
       "    </tr>\n",
       "    <tr>\n",
       "      <th>max</th>\n",
       "      <td>1000000.000000</td>\n",
       "      <td>2020.000000</td>\n",
       "      <td>5.000000</td>\n",
       "      <td>2020.000000</td>\n",
       "      <td>9.900000e+07</td>\n",
       "    </tr>\n",
       "  </tbody>\n",
       "</table>\n",
       "</div>"
      ],
      "text/plain": [
       "              mileage     modelDate  numberOfDoors  productionDate  \\\n",
       "count    56185.000000  56185.000000   56185.000000    56185.000000   \n",
       "mean    127454.756056   2009.167838       4.517914     2011.441648   \n",
       "std     102529.599701      7.232356       0.650390        6.839444   \n",
       "min          0.000000   1908.000000       2.000000     1924.000000   \n",
       "25%      43100.000000   2005.000000       4.000000     2007.000000   \n",
       "50%     121924.000000   2010.000000       5.000000     2012.000000   \n",
       "75%     187000.000000   2015.000000       5.000000     2017.000000   \n",
       "max    1000000.000000   2020.000000       5.000000     2020.000000   \n",
       "\n",
       "              price  \n",
       "count  5.618500e+04  \n",
       "mean   1.407421e+06  \n",
       "std    2.004440e+06  \n",
       "min    1.600000e+04  \n",
       "25%    3.700000e+05  \n",
       "50%    7.000000e+05  \n",
       "75%    1.670000e+06  \n",
       "max    9.900000e+07  "
      ]
     },
     "execution_count": 91,
     "metadata": {},
     "output_type": "execute_result"
    }
   ],
   "source": [
    "# Посмотрим статистику по числовым признакам:\n",
    "data.query('sample == 1')[num_cols].describe()"
   ]
  },
  {
   "cell_type": "markdown",
   "id": "af7e7a69",
   "metadata": {},
   "source": [
    "### Промежуточные выводы:\n",
    "\n",
    "- признак ***mileage*** - пробег. Минимальное значение - 0, максимальное - 1000000. Средний пробег авто - 12, медианный - 121924.Самое часто встречающееся значение 0. Есть смещение к 0, что говорит о большом кол-ве новых авто. Выбросы в данном признаке 655 | 1.17%, это авто со слишком большим пробегом. Имеет смылс логарифмировать признак.\n",
    "- признак ***modelDate***. Значения от 1908 до 2020. Распределение смещено. Также присутствуют выбросы в количестве 765 | 1.36%, однако удалять данные о моделях выпущенных ранее 1990 года не вижу необходимости.\n",
    "- признак ***numberOfDoors***. Минимальное значение - 2, максимальное - 5. Выбросов не имеет, в дальнейшей обработке не нуждается.\n",
    "- признак ***productionDate***. Значения от 1924 до 2020. Распределение смещено. Также присутствуют выбросы в количестве 613 | 1.09%, однако удалять данные о моделях выпущенных ранее 1992 года не вижу необходимости.\n",
    "- признак ***price*** - целевой признак. Минимальное значение - 1600, максимальное - 99000000. Средняя цена авто - 14074210. Распределение сильно смещено вправо. Выбросов, согласно IQR: 4953 | 8.82%, считаю важным обработать выбросы, а именно удалить значения выше 4000000."
   ]
  },
  {
   "cell_type": "code",
   "execution_count": 92,
   "id": "26d0e458",
   "metadata": {},
   "outputs": [],
   "source": [
    "# избавимся от выбросов в 'price'\n",
    "data = data[data['price'] <= 4000000]\n",
    "# Для дальнейшей обработки удалим целевой признак и списка\n",
    "num_cols.remove('price')"
   ]
  },
  {
   "cell_type": "code",
   "execution_count": 93,
   "id": "4334a44c",
   "metadata": {},
   "outputs": [
    {
     "name": "stderr",
     "output_type": "stream",
     "text": [
      "C:\\ProgramData\\Anaconda3\\lib\\site-packages\\seaborn\\distributions.py:2557: FutureWarning: `distplot` is a deprecated function and will be removed in a future version. Please adapt your code to use either `displot` (a figure-level function with similar flexibility) or `histplot` (an axes-level function for histograms).\n",
      "  warnings.warn(msg, FutureWarning)\n",
      "C:\\ProgramData\\Anaconda3\\lib\\site-packages\\seaborn\\distributions.py:1657: FutureWarning: The `bw` parameter is deprecated in favor of `bw_method` and `bw_adjust`. Using 0.45 for `bw_method`, but please see the docs for the new parameters and update your code.\n",
      "  warnings.warn(msg, FutureWarning)\n",
      "C:\\ProgramData\\Anaconda3\\lib\\site-packages\\seaborn\\distributions.py:2557: FutureWarning: `distplot` is a deprecated function and will be removed in a future version. Please adapt your code to use either `displot` (a figure-level function with similar flexibility) or `histplot` (an axes-level function for histograms).\n",
      "  warnings.warn(msg, FutureWarning)\n",
      "C:\\ProgramData\\Anaconda3\\lib\\site-packages\\seaborn\\distributions.py:1657: FutureWarning: The `bw` parameter is deprecated in favor of `bw_method` and `bw_adjust`. Using 0.45 for `bw_method`, but please see the docs for the new parameters and update your code.\n",
      "  warnings.warn(msg, FutureWarning)\n",
      "C:\\ProgramData\\Anaconda3\\lib\\site-packages\\seaborn\\distributions.py:2557: FutureWarning: `distplot` is a deprecated function and will be removed in a future version. Please adapt your code to use either `displot` (a figure-level function with similar flexibility) or `histplot` (an axes-level function for histograms).\n",
      "  warnings.warn(msg, FutureWarning)\n",
      "C:\\ProgramData\\Anaconda3\\lib\\site-packages\\seaborn\\distributions.py:1657: FutureWarning: The `bw` parameter is deprecated in favor of `bw_method` and `bw_adjust`. Using 0.45 for `bw_method`, but please see the docs for the new parameters and update your code.\n",
      "  warnings.warn(msg, FutureWarning)\n",
      "C:\\ProgramData\\Anaconda3\\lib\\site-packages\\seaborn\\distributions.py:2557: FutureWarning: `distplot` is a deprecated function and will be removed in a future version. Please adapt your code to use either `displot` (a figure-level function with similar flexibility) or `histplot` (an axes-level function for histograms).\n",
      "  warnings.warn(msg, FutureWarning)\n",
      "C:\\ProgramData\\Anaconda3\\lib\\site-packages\\seaborn\\distributions.py:1657: FutureWarning: The `bw` parameter is deprecated in favor of `bw_method` and `bw_adjust`. Using 0.45 for `bw_method`, but please see the docs for the new parameters and update your code.\n",
      "  warnings.warn(msg, FutureWarning)\n"
     ]
    },
    {
     "data": {
      "image/png": "[encoded data removed]",
      "text/plain": [
       "<Figure size 1296x1080 with 4 Axes>"
      ]
     },
     "metadata": {
      "needs_background": "light"
     },
     "output_type": "display_data"
    }
   ],
   "source": [
    "# Прологарифмируем признаки у которых смещенны распределения:\n",
    "log_features = ['mileage', 'modelDate', 'productionDate']\n",
    "for column in log_features:\n",
    "    data[column] = get_log(data, column)\n",
    "# Посмотрим на распределения числовых признаков после преобразований:\n",
    "fig, axes = plt.subplots(2, 2, figsize=(18, 15))\n",
    "for i, col in enumerate(num_cols):\n",
    "    sns.distplot(data[col], ax=axes.flat[i], bins=50, kde_kws={'bw': 0.45})"
   ]
  },
  {
   "cell_type": "markdown",
   "id": "05f00188",
   "metadata": {},
   "source": [
    "# Корреляционный анализ"
   ]
  },
  {
   "cell_type": "code",
   "execution_count": 94,
   "id": "2a2243d0",
   "metadata": {},
   "outputs": [
    {
     "data": {
      "text/plain": [
       "<AxesSubplot:>"
      ]
     },
     "execution_count": 94,
     "metadata": {},
     "output_type": "execute_result"
    },
    {
     "data": {
      "image/png": "[encoded data removed]",
      "text/plain": [
       "<Figure size 432x288 with 2 Axes>"
      ]
     },
     "metadata": {
      "needs_background": "light"
     },
     "output_type": "display_data"
    }
   ],
   "source": [
    "sns.heatmap(data[num_cols].corr().abs(), annot=True, vmin=0, vmax=1)"
   ]
  },
  {
   "cell_type": "markdown",
   "id": "8815a382",
   "metadata": {},
   "source": [
    "# Оценка значимости признаков"
   ]
  },
  {
   "cell_type": "code",
   "execution_count": 95,
   "id": "e10fe07d",
   "metadata": {},
   "outputs": [
    {
     "data": {
      "text/plain": [
       "<AxesSubplot:>"
      ]
     },
     "execution_count": 95,
     "metadata": {},
     "output_type": "execute_result"
    },
    {
     "data": {
      "image/png": "[encoded data removed]",
      "text/plain": [
       "<Figure size 432x288 with 1 Axes>"
      ]
     },
     "metadata": {
      "needs_background": "light"
     },
     "output_type": "display_data"
    }
   ],
   "source": [
    "# Определим значимость числовых признаков с помощью функции mutual_info_classif:\n",
    "imp_num = pd.Series(f_classif(data.query('sample == 1')[num_cols], data.query(\n",
    "    'sample == 1')['price'])[0], index=num_cols)\n",
    "imp_num.sort_values(inplace=True)\n",
    "imp_num.plot(kind='barh')"
   ]
  },
  {
   "cell_type": "markdown",
   "id": "1f2d3c2c",
   "metadata": {},
   "source": [
    "**Резюме**: Максимальное значение коэффициента корреляции составляет 0,97 между признаками ***modelDate/productionDate***. Это говорит о большой связи этих параметров, что понятно исходя из логики связи года выпуска модели и года выпуска авто. Оценка значимости числовых признаков показывает, что все признаки в той или иной степени влияют на целевой. Самым значимым из чиловых признаков является ***mileage***."
   ]
  },
  {
   "cell_type": "markdown",
   "id": "d99e2a66",
   "metadata": {},
   "source": [
    "# Категориальные признаки"
   ]
  },
  {
   "cell_type": "code",
   "execution_count": 96,
   "id": "6dc420fe",
   "metadata": {},
   "outputs": [
    {
     "data": {
      "text/html": [
       "<div>\n",
       "<style scoped>\n",
       "    .dataframe tbody tr th:only-of-type {\n",
       "        vertical-align: middle;\n",
       "    }\n",
       "\n",
       "    .dataframe tbody tr th {\n",
       "        vertical-align: top;\n",
       "    }\n",
       "\n",
       "    .dataframe thead th {\n",
       "        text-align: right;\n",
       "    }\n",
       "</style>\n",
       "<table border=\"1\" class=\"dataframe\">\n",
       "  <thead>\n",
       "    <tr style=\"text-align: right;\">\n",
       "      <th></th>\n",
       "      <th>bodyType</th>\n",
       "      <th>brand</th>\n",
       "      <th>color</th>\n",
       "      <th>fuelType</th>\n",
       "      <th>name</th>\n",
       "      <th>vehicleConfiguration</th>\n",
       "      <th>vehicleTransmission</th>\n",
       "      <th>engineDisplacement</th>\n",
       "      <th>enginePower</th>\n",
       "      <th>description</th>\n",
       "      <th>complectation_dict</th>\n",
       "      <th>model_name</th>\n",
       "      <th>Владельцы</th>\n",
       "      <th>Владение</th>\n",
       "      <th>Привод</th>\n",
       "    </tr>\n",
       "  </thead>\n",
       "  <tbody>\n",
       "    <tr>\n",
       "      <th>0</th>\n",
       "      <td>лифтбек</td>\n",
       "      <td>SKODA</td>\n",
       "      <td>синий</td>\n",
       "      <td>бензин</td>\n",
       "      <td>1.2 AMT (105 л.с.)</td>\n",
       "      <td>LIFTBACK ROBOT 1.2</td>\n",
       "      <td>роботизированная</td>\n",
       "      <td>1.2 LTR</td>\n",
       "      <td>105 N12</td>\n",
       "      <td>Все автомобили, представленные в продаже, прох...</td>\n",
       "      <td>NaN</td>\n",
       "      <td>OCTAVIA</td>\n",
       "      <td>3 или более</td>\n",
       "      <td>NaN</td>\n",
       "      <td>передний</td>\n",
       "    </tr>\n",
       "    <tr>\n",
       "      <th>1</th>\n",
       "      <td>лифтбек</td>\n",
       "      <td>SKODA</td>\n",
       "      <td>чёрный</td>\n",
       "      <td>бензин</td>\n",
       "      <td>1.6 MT (110 л.с.)</td>\n",
       "      <td>LIFTBACK MECHANICAL 1.6</td>\n",
       "      <td>механическая</td>\n",
       "      <td>1.6 LTR</td>\n",
       "      <td>110 N12</td>\n",
       "      <td>ЛОТ: 01217195\\nАвтопрага Север\\nДанный автомоб...</td>\n",
       "      <td>NaN</td>\n",
       "      <td>OCTAVIA</td>\n",
       "      <td>1 владелец</td>\n",
       "      <td>NaN</td>\n",
       "      <td>передний</td>\n",
       "    </tr>\n",
       "    <tr>\n",
       "      <th>2</th>\n",
       "      <td>лифтбек</td>\n",
       "      <td>SKODA</td>\n",
       "      <td>серый</td>\n",
       "      <td>бензин</td>\n",
       "      <td>DSG 1.8 AMT (152 л.с.)</td>\n",
       "      <td>LIFTBACK ROBOT 1.8</td>\n",
       "      <td>роботизированная</td>\n",
       "      <td>1.8 LTR</td>\n",
       "      <td>152 N12</td>\n",
       "      <td>Все автомобили, представленные в продаже, прох...</td>\n",
       "      <td>{\"id\":\"20026336\",\"name\":\"Ambition\",\"available_...</td>\n",
       "      <td>SUPERB</td>\n",
       "      <td>1 владелец</td>\n",
       "      <td>NaN</td>\n",
       "      <td>передний</td>\n",
       "    </tr>\n",
       "    <tr>\n",
       "      <th>3</th>\n",
       "      <td>лифтбек</td>\n",
       "      <td>SKODA</td>\n",
       "      <td>коричневый</td>\n",
       "      <td>бензин</td>\n",
       "      <td>1.6 AT (110 л.с.)</td>\n",
       "      <td>LIFTBACK AUTOMATIC 1.6</td>\n",
       "      <td>автоматическая</td>\n",
       "      <td>1.6 LTR</td>\n",
       "      <td>110 N12</td>\n",
       "      <td>КОМПЛЕКТ ЗИМНЕЙ (ЛЕТНЕЙ) РЕЗИНЫ ПО СЕЗОНУ В ПО...</td>\n",
       "      <td>{\"id\":\"20803582\",\"name\":\"Ambition\",\"available_...</td>\n",
       "      <td>OCTAVIA</td>\n",
       "      <td>1 владелец</td>\n",
       "      <td>NaN</td>\n",
       "      <td>передний</td>\n",
       "    </tr>\n",
       "    <tr>\n",
       "      <th>4</th>\n",
       "      <td>лифтбек</td>\n",
       "      <td>SKODA</td>\n",
       "      <td>белый</td>\n",
       "      <td>бензин</td>\n",
       "      <td>1.8 AT (152 л.с.)</td>\n",
       "      <td>LIFTBACK AUTOMATIC 1.8</td>\n",
       "      <td>автоматическая</td>\n",
       "      <td>1.8 LTR</td>\n",
       "      <td>152 N12</td>\n",
       "      <td>ЛОТ: 01220889\\nАвтопрага Север\\n\\nВы можете по...</td>\n",
       "      <td>NaN</td>\n",
       "      <td>OCTAVIA</td>\n",
       "      <td>1 владелец</td>\n",
       "      <td>NaN</td>\n",
       "      <td>передний</td>\n",
       "    </tr>\n",
       "  </tbody>\n",
       "</table>\n",
       "</div>"
      ],
      "text/plain": [
       "  bodyType  brand       color fuelType                    name  \\\n",
       "0  лифтбек  SKODA       синий   бензин      1.2 AMT (105 л.с.)   \n",
       "1  лифтбек  SKODA      чёрный   бензин       1.6 MT (110 л.с.)   \n",
       "2  лифтбек  SKODA       серый   бензин  DSG 1.8 AMT (152 л.с.)   \n",
       "3  лифтбек  SKODA  коричневый   бензин       1.6 AT (110 л.с.)   \n",
       "4  лифтбек  SKODA       белый   бензин       1.8 AT (152 л.с.)   \n",
       "\n",
       "      vehicleConfiguration vehicleTransmission engineDisplacement enginePower  \\\n",
       "0       LIFTBACK ROBOT 1.2    роботизированная            1.2 LTR     105 N12   \n",
       "1  LIFTBACK MECHANICAL 1.6        механическая            1.6 LTR     110 N12   \n",
       "2       LIFTBACK ROBOT 1.8    роботизированная            1.8 LTR     152 N12   \n",
       "3   LIFTBACK AUTOMATIC 1.6      автоматическая            1.6 LTR     110 N12   \n",
       "4   LIFTBACK AUTOMATIC 1.8      автоматическая            1.8 LTR     152 N12   \n",
       "\n",
       "                                         description  \\\n",
       "0  Все автомобили, представленные в продаже, прох...   \n",
       "1  ЛОТ: 01217195\\nАвтопрага Север\\nДанный автомоб...   \n",
       "2  Все автомобили, представленные в продаже, прох...   \n",
       "3  КОМПЛЕКТ ЗИМНЕЙ (ЛЕТНЕЙ) РЕЗИНЫ ПО СЕЗОНУ В ПО...   \n",
       "4  ЛОТ: 01220889\\nАвтопрага Север\\n\\nВы можете по...   \n",
       "\n",
       "                                  complectation_dict model_name    Владельцы  \\\n",
       "0                                                NaN    OCTAVIA  3 или более   \n",
       "1                                                NaN    OCTAVIA   1 владелец   \n",
       "2  {\"id\":\"20026336\",\"name\":\"Ambition\",\"available_...     SUPERB   1 владелец   \n",
       "3  {\"id\":\"20803582\",\"name\":\"Ambition\",\"available_...    OCTAVIA   1 владелец   \n",
       "4                                                NaN    OCTAVIA   1 владелец   \n",
       "\n",
       "  Владение    Привод  \n",
       "0      NaN  передний  \n",
       "1      NaN  передний  \n",
       "2      NaN  передний  \n",
       "3      NaN  передний  \n",
       "4      NaN  передний  "
      ]
     },
     "execution_count": 96,
     "metadata": {},
     "output_type": "execute_result"
    }
   ],
   "source": [
    "data[cat_cols].head()"
   ]
  },
  {
   "cell_type": "markdown",
   "id": "b161755c",
   "metadata": {},
   "source": [
    "Ранее мы определили что пропуски есть в 4 категориальных признаках description - 1827 value(s), 2.00%; complectation_dict - 28268 value(s), 30.97%; Владельцы - 9797 value(s), 10.73%; Владение - 63602 value(s), 69.69%;\n",
    "Решаю удалить признаки в которых более 15% пропусков, так как их обработка затребует несоотносимо много ресурсов."
   ]
  },
  {
   "cell_type": "code",
   "execution_count": 97,
   "id": "bbc4e443",
   "metadata": {},
   "outputs": [],
   "source": [
    "# Удалим обозначенные признаки\n",
    "data.drop(['complectation_dict', 'Владение'], axis=1, inplace=True)\n",
    "cat_cols.remove('complectation_dict')\n",
    "cat_cols.remove('Владение')"
   ]
  },
  {
   "cell_type": "code",
   "execution_count": 98,
   "id": "1960705c",
   "metadata": {},
   "outputs": [
    {
     "name": "stdout",
     "output_type": "stream",
     "text": [
      "['лифтбек' 'внедорожник 5 дв.' 'хэтчбек 5 дв.' 'седан' 'компактвэн'\n",
      " 'универсал 5 дв.' 'пикап одинарная кабина' 'хэтчбек 3 дв.' 'купе'\n",
      " 'кабриолет' 'минивэн' 'пикап двойная кабина' 'внедорожник 3 дв.'\n",
      " 'родстер' 'микровэн' 'седан 2 дв.' 'купе-хардтоп' 'фастбек' 'тарга'\n",
      " 'внедорожник открытый' 'лимузин' 'пикап полуторная кабина'\n",
      " 'седан-хардтоп' 'фургон' 'Седан' 'Универсал 5 дв.'\n",
      " 'Хэтчбек 5 дв. Sportback' 'Хэтчбек 3 дв.' 'Хэтчбек 5 дв.' 'Купе'\n",
      " 'Лифтбек Sportback' 'Кабриолет' 'Лифтбек' 'Седан Long'\n",
      " 'Внедорожник 5 дв.' 'Кабриолет Roadster' 'Седан Gran Coupe' 'Компактвэн'\n",
      " 'Компактвэн Gran Tourer' 'Лифтбек Gran Turismo' 'Хэтчбек 3 дв. Compact'\n",
      " 'Седан 2 дв.' 'Лифтбек Gran Coupe' 'Родстер' 'Внедорожник 5 дв. ESV'\n",
      " 'Пикап Двойная кабина' 'Внедорожник 3 дв.' 'Пикап Одинарная кабина'\n",
      " 'Минивэн' 'Купе-хардтоп' 'Пикап Двойная кабина Crew Cab'\n",
      " 'Пикап Одинарная кабина Regular Cab' 'Внедорожник 5 дв. EXT' 'Седан SRT8'\n",
      " 'Минивэн SWB' 'Минивэн Grand' 'Компактвэн Grand'\n",
      " 'Универсал 5 дв. CrossTourer' 'Минивэн Long' 'Минивэн XL'\n",
      " 'Микровэн Coach' 'Хэтчбек 5 дв. Best' 'Хэтчбек 5 дв. SRT4'\n",
      " 'Пикап Полуторная кабина' 'Пикап Двойная кабина Quad Cab'\n",
      " 'Пикап Полуторная кабина Quad Cab' 'Пикап Двойная кабина CrewCab'\n",
      " 'Пикап Двойная кабина Raptor CrewCab' 'Пикап Двойная кабина Super Crew'\n",
      " 'Кабриолет StreetKa' 'Пикап Двойная кабина Double Cab'\n",
      " 'Пикап Полуторная кабина Rap Cab' 'Компактвэн SWB' 'Компактвэн LWB'\n",
      " 'Минивэн LWB' 'Седан Type-S' 'Универсал 5 дв. Shuttle' 'Компактвэн Spike'\n",
      " 'Минивэн Spada' 'Седан Limousine' 'Внедорожник 5 дв. Grand'\n",
      " 'Хэтчбек 4 дв.' 'Седан SWB' 'Седан LWB' 'Внедорожник 5 дв. SRT'\n",
      " 'Внедорожник 5 дв. SRT8' 'Внедорожник открытый' 'Хэтчбек 5 дв. GT Line'\n",
      " 'Хэтчбек 5 дв. X-Line' 'Хэтчбек 5 дв. EU' 'Внедорожник 5 дв. Prime'\n",
      " 'Внедорожник 5 дв. L' 'Универсал 5 дв. S-Familia' 'Кабриолет JCW'\n",
      " 'Кабриолет Cooper S' 'Хэтчбек 3 дв. Cooper S' 'Универсал 5 дв. JCW'\n",
      " 'Универсал 5 дв. Cooper S' 'Внедорожник 5 дв. Cooper S'\n",
      " 'Внедорожник 5 дв. JCW' 'Купе Cooper S' 'Хэтчбек 3 дв. JCW'\n",
      " 'Хэтчбек 5 дв. Cooper S' 'Универсал 5 дв. Plus' 'Микровэн' 'Купе Asti'\n",
      " 'Тарга' 'Фастбек' 'Универсал 5 дв. California' 'Седан Latio'\n",
      " 'Хэтчбек 3 дв. GTC' 'Универсал 5 дв. Country Tourer' 'Минивэн L'\n",
      " 'Тарга Targa' 'Седан Stepway' 'Хэтчбек 5 дв. Stepway' 'Компактвэн RX4'\n",
      " 'Компактвэн Conquest' 'Хэтчбек 5 дв. Scout' 'Универсал 5 дв. Scout'\n",
      " 'Универсал 5 дв. Spaceback' 'Внедорожник 5 дв. tS' 'Хэтчбек 5 дв. XV'\n",
      " 'Внедорожник 5 дв. XL-7' 'Универсал 5 дв. Gita' 'Седан US Market'\n",
      " 'Седан Japan Market' 'Седан Gracia' 'Седан-хардтоп' 'Седан Axio'\n",
      " 'Универсал 5 дв. Fielder' 'Седан-хардтоп Ceres' 'Хэтчбек 5 дв. Runx'\n",
      " 'Лифтбек Liftback' 'Седан Premio' 'Седан T140' 'Минивэн Lucida'\n",
      " 'Минивэн Emina' 'Минивэн Regius' 'Пикап Двойная кабина Double cab'\n",
      " 'Внедорожник 5 дв. 76' 'Внедорожник 5 дв. Arctic Trucks'\n",
      " 'Компактвэн Noah' 'Универсал 5 дв. Blit' 'Универсал 5 дв. Qualis'\n",
      " 'Внедорожник 5 дв. Long' 'Пикап Полуторная кабина Long Bed'\n",
      " 'Универсал 5 дв. Ardeo' 'Компактвэн Life' 'Компактвэн Maxi'\n",
      " 'Компактвэн Life Maxi' 'Компактвэн Alltrack' 'Универсал 5 дв. Alltrack'\n",
      " 'Хэтчбек 5 дв. Cross' 'Внедорожник 5 дв. Allspace' 'Компактвэн Cross'\n",
      " 'Фургон' 'Фургон Kasten' 'Внедорожник 5 дв. 110' 'Внедорожник 3 дв. 90'\n",
      " 'Хэтчбек 5 дв. Long' 'Универсал 5 дв. All-Terrain' 'Лимузин Pullman'\n",
      " 'Минивэн Extralong' 'Минивэн Marco Polo' 'Минивэн Extra Long'\n",
      " 'Минивэн L2' 'Минивэн L1' 'Минивэн L3' 'Пикап Двойная кабина Sports']\n",
      "170\n"
     ]
    }
   ],
   "source": [
    "# Ранее мы определили что признак типа авто не имеет пропусков\n",
    "# посмотрим на имеющиеся типы\n",
    "print(data['bodyType'].unique())\n",
    "print(len(data['bodyType'].unique()))"
   ]
  },
  {
   "cell_type": "code",
   "execution_count": 99,
   "id": "cba7a5b0",
   "metadata": {},
   "outputs": [
    {
     "data": {
      "image/png": "[encoded data removed]",
      "text/plain": [
       "<Figure size 1440x720 with 1 Axes>"
      ]
     },
     "metadata": {
      "needs_background": "light"
     },
     "output_type": "display_data"
    }
   ],
   "source": [
    "# Ранее мы определили что признак brand не имеет пропусков\n",
    "# посмотрим на распределение\n",
    "g = sns.countplot(y=data['brand'])\n",
    "g.figure.set_figwidth(20)\n",
    "g.figure.set_figheight(10)"
   ]
  },
  {
   "cell_type": "code",
   "execution_count": 100,
   "id": "9612ff4a",
   "metadata": {},
   "outputs": [
    {
     "data": {
      "image/png": "[encoded data removed]",
      "text/plain": [
       "<Figure size 1440x720 with 1 Axes>"
      ]
     },
     "metadata": {
      "needs_background": "light"
     },
     "output_type": "display_data"
    }
   ],
   "source": [
    "# посмотрим на распределение по цвету 'color'\n",
    "g = sns.countplot(y=data['color'])\n",
    "g.figure.set_figwidth(20)\n",
    "g.figure.set_figheight(10)"
   ]
  },
  {
   "cell_type": "code",
   "execution_count": 101,
   "id": "f2053f6c",
   "metadata": {},
   "outputs": [
    {
     "data": {
      "text/plain": [
       "<AxesSubplot:xlabel='count', ylabel='fuelType'>"
      ]
     },
     "execution_count": 101,
     "metadata": {},
     "output_type": "execute_result"
    },
    {
     "data": {
      "image/png": "[encoded data removed]",
      "text/plain": [
       "<Figure size 432x288 with 1 Axes>"
      ]
     },
     "metadata": {
      "needs_background": "light"
     },
     "output_type": "display_data"
    }
   ],
   "source": [
    "# посмотри на распределение по типу топлива\n",
    "sns.countplot(y=data['fuelType'])"
   ]
  },
  {
   "cell_type": "code",
   "execution_count": 102,
   "id": "c4ab4e4d",
   "metadata": {},
   "outputs": [
    {
     "data": {
      "text/plain": [
       "array(['1.2 AMT (105 л.с.)', '1.6 MT (110 л.с.)',\n",
       "       'DSG 1.8 AMT (152 л.с.)', ..., '2.8 AT (201 л.с.) 4WD',\n",
       "       '2.3 AT (140 л.с.) 4WD', '2.7d AT (165 л.с.) 4WD'], dtype=object)"
      ]
     },
     "execution_count": 102,
     "metadata": {},
     "output_type": "execute_result"
    }
   ],
   "source": [
    "data['name'].unique()"
   ]
  },
  {
   "cell_type": "code",
   "execution_count": 103,
   "id": "8c5f6a8d",
   "metadata": {},
   "outputs": [
    {
     "data": {
      "text/plain": [
       "array(['LIFTBACK ROBOT 1.2', 'LIFTBACK MECHANICAL 1.6',\n",
       "       'LIFTBACK ROBOT 1.8', ..., 'ALLROAD_5_DOORS AUTOMATIC 2.3d',\n",
       "       'PICKUP_TWO MECHANICAL Sports', 'MINIVAN AUTOMATIC 2.7d'],\n",
       "      dtype=object)"
      ]
     },
     "execution_count": 103,
     "metadata": {},
     "output_type": "execute_result"
    }
   ],
   "source": [
    "data['vehicleConfiguration'].unique()"
   ]
  },
  {
   "cell_type": "code",
   "execution_count": 104,
   "id": "1c6cfda9",
   "metadata": {},
   "outputs": [
    {
     "data": {
      "text/plain": [
       "array(['роботизированная', 'механическая', 'автоматическая', 'вариатор',\n",
       "       'MECHANICAL', 'AUTOMATIC', 'ROBOT', 'VARIATOR'], dtype=object)"
      ]
     },
     "execution_count": 104,
     "metadata": {},
     "output_type": "execute_result"
    }
   ],
   "source": [
    "data['vehicleTransmission'].unique()"
   ]
  },
  {
   "cell_type": "code",
   "execution_count": 105,
   "id": "73e89316",
   "metadata": {},
   "outputs": [
    {
     "data": {
      "text/plain": [
       "array(['1.2 LTR', '1.6 LTR', '1.8 LTR', '2.0 LTR', '1.4 LTR', '1.3 LTR',\n",
       "       '1.0 LTR', '3.6 LTR', '1.5 LTR', '1.9 LTR', '2.8 LTR', '1.1 LTR',\n",
       "       '2.5 LTR', '4.2 LTR', '3.0 LTR', '4.0 LTR', '5.9 LTR', '2.7 LTR',\n",
       "       '3.1 LTR', '2.4 LTR', '5.2 LTR', '3.2 LTR', '4.1 LTR', '6.3 LTR',\n",
       "       '2.3 LTR', '6.0 LTR', '2.2 LTR', '3.7 LTR', '2.9 LTR', '5.0 LTR',\n",
       "       '3.3 LTR', '2.1 LTR', '2.6 LTR', ' LTR', '3.5 LTR', '1.7 LTR',\n",
       "       '0.7 LTR', '4.4 LTR', '4.8 LTR', '5.4 LTR', '6.6 LTR', '4.9 LTR',\n",
       "       '3.8 LTR', '3.4 LTR', '3.9 LTR', '4.6 LTR', '5.6 LTR', '4.5 LTR',\n",
       "       '5.5 LTR', '6.2 LTR', '4.7 LTR', '4.3 LTR', '5.8 LTR', '5.3 LTR',\n",
       "       '5.7 LTR', '1.8', '2.3', '2.0', '2.8', '2.6', 'S4', '2.2', '2.5d',\n",
       "       '2.1', '1.6', '1.9d', '1.6d', '1.3', '1.4', '1.2d', 'ultra', '1.2',\n",
       "       '3.2', '1.5', '8V', '2.0d', '3.1', '2.4', '2.7d', '16V', '3.0',\n",
       "       '7S-tronic', '3.0d', 'tiptronic', '40', '45', '2.7', '55', '4.2',\n",
       "       'S-tronic', 'Tiptronic', 'Long', '4.0', '3.9d', '3.7', '6.0', '35',\n",
       "       '8tiptronic', 'clean', '2.0hyb', '3.6', '5.9d', '4.1d', '5.0',\n",
       "       '5.2', '2.5', 'M135i', '116i', '120i', '118i', '135i', 'M140i',\n",
       "       '125i', '120d', '218i', '220i', 'M235i', '220d', '335i', '320i',\n",
       "       '318i', '318d', '320d', '316i', '328i', '330i', '325xi', '325i',\n",
       "       '330d', '340i', '323i', '335d', '335xi', '330xi', '316', '318',\n",
       "       'N46', '420d', '428i', '420i', '430i', '520d', '525i', '523i',\n",
       "       '530d', '520i', '530i', '528i', '525d', '550i', '535d', '540i',\n",
       "       '535i', '530xi', '530Li', '525xi', '518', '520Li', 'M550d',\n",
       "       '528Li', 'M550i', '535xi', '545i', '524d', '518i', '530xd', '630i',\n",
       "       '640i', '640d', '650i', '630d', '620d', '635i', '645i', '740i',\n",
       "       '750Li', '740Li', '730Ld', '730Li', '740d', '730d', '730i', '750i',\n",
       "       'Active', '760Li', '735i', '728i', '750d', '728Li', '745i',\n",
       "       '750Ld', '745Li', '735Li', '94Ah', 'Electro', 'S', '0.7hyb',\n",
       "       '1.5hyb', '3.3', 'Competition', '4.4', '18i', '20i', '18d', '20d',\n",
       "       '25d', '28i', '25i', '23d', 'sDrive18i', 'xDrive20i', 'xDrive18d',\n",
       "       'xDrive20d', '30d', '30i', '35i', 'M50d', '48i', '50i', '3.0i',\n",
       "       '40d', '3.0sd', '4.4i', '4.8i', '3.0si', '4.8is', '40e', '35d',\n",
       "       '4.6is', 'ActiveHybrid', '1.9', '23i', '35is', '4.6', '4.9', '4.1',\n",
       "       '8.2', '6.2', 'ESV', '5.3', '6-speed', '1.1', '0.8', '4.3', '6.2d',\n",
       "       '5.7', 'SS', 'ZL1', '3.4', '2.2d', '1.7', '1.0', '7.5', '6AT',\n",
       "       '6.5d', '2.8d', 'EXT', '3.5', 'SRT8', 'Fifth', '6.8', '3.8', 'SWB',\n",
       "       'Grand', 'Донинвест', '1.4d', 'SensoDrive', 'Aircross', 'Triomphe',\n",
       "       'Hydractive', 'CrossTourer', 'XL', '2.1d', 'Best', 'SRT-4', 'R__T',\n",
       "       '3.9', '4.7', 'SRT-10', '5.4', '5.8', '2.3hyb', 'Sport', 'SVT',\n",
       "       '1.8d', 'StreetKa', '2.9', 'PowerShift', 'ST220', '3.2d', 'SHO',\n",
       "       '7.0', 'LWB', 'Type', 'Hybrid', 'AMT', 'Shuttle', 'Spike',\n",
       "       '1.3hyb', '0.7', 'Spada', 'ТагАЗ', '1.5d', 'Prime', 'Limousine',\n",
       "       '1.7d', 'Classic', '2.6d', '2.9d', 'EX25', 'EX35', 'EX37', 'FX37',\n",
       "       'FX35', 'FX50', 'FX45', 'FX30d', 'G37', 'G35', 'G25', 'G20', 'I30',\n",
       "       'JX35', 'M37', 'M35', 'M56', 'M25', 'M45', '3.5hyb', '5.6',\n",
       "       '2.5hyb', 'V8', 'R', 'TrailHawk', 'SRT', '3.1d', 'Trailhawk',\n",
       "       '5-speed', '4-speed', '8-speed', '2.4hyb', 'GT', 'X-Line', '200h',\n",
       "       '250', '200', '300', '350', '300h', '450h', '430', '460', '470',\n",
       "       '250h', '200t', '250C', '400', '600h', '570', '270', '330', '400h',\n",
       "       '350L', 'S-Wagon', 'Hard', 'John', 'Cooper', 'One', 'Grandis',\n",
       "       'CZ1', 'CZ2', 'Plus', 'CZ3', 'VR-4', 'Easy', '2.4d', 'Super',\n",
       "       'Cedia', 'Cubic', '2.3d', '1.2hyb', 'Latio', 'GTC', '1.3d',\n",
       "       'C16NZ', '16LZ2', 'X16SZR', 'CNG', 'GSi', 'Country', 'KAT', 'L',\n",
       "       '+', '7', 'Turbo', 'Carrera', 'Diesel', 'GTS', '4S', '4', 'Europa',\n",
       "       'Campus', 'Be', 'Stepway', 'RX4', 'Conquest', 'Scout', 'DSG7',\n",
       "       'DSG', 'ACT', 'tS', 'S-Edition', 'XV', 'XL-7', 'US', 'Japan',\n",
       "       'Gracia', 'GT-Four', 'Axio', 'Fielder', 'Ceres', 'Runx', 'i',\n",
       "       'Premio', '1.8hyb', 'Lucida', 'Emina', 'Regius', '3.3hyb', '4.5d',\n",
       "       '3.4d', '4.5', '4.2d', '76', '105', '3.6d', 'Arctic', 'Noah',\n",
       "       'Qualis', 'Double', 'Ardeo', 'Multimode', 'full-time', 'part-time',\n",
       "       'Maxi', 'BiFuel', 'Alltrack', 'EcoFuel', '4MOTION', 'VR6',\n",
       "       'GTI\"35\"', '5-Seater', '4-Seater', '4.9d', 'Cross', 'Allspace',\n",
       "       '3.0hyb', 'Syncro', 'T-5R', 'Bi-Fuel', 'G3', 'G5', 'G1', '110',\n",
       "       '130', '90', 'Ingenium', 'Supercharged', '4.4d', '9-speed', '180',\n",
       "       '160', '170', '220', '150', '140', '210', '230', '240', '450',\n",
       "       '280', '320', '43', '63', '109', '500', '550', '600', '420', '65',\n",
       "       'All-Terrain', '290', '50', 'Pullman', '380', '560', 'L1', 'L3',\n",
       "       'L2', 'Marco', '121', '113', '119', '111', '112', '108', '115',\n",
       "       '114', '116', '260', 'Sports'], dtype=object)"
      ]
     },
     "execution_count": 105,
     "metadata": {},
     "output_type": "execute_result"
    }
   ],
   "source": [
    "data['engineDisplacement'].unique()"
   ]
  },
  {
   "cell_type": "code",
   "execution_count": 106,
   "id": "eee57d22",
   "metadata": {},
   "outputs": [
    {
     "data": {
      "text/plain": [
       "array(['105 N12', '110 N12', '152 N12', '200 N12', '102 N12', '150 N12',\n",
       "       '90 N12', '180 N12', '220 N12', '122 N12', '70 N12', '140 N12',\n",
       "       '125 N12', '54 N12', '86 N12', '75 N12', '64 N12', '95 N12',\n",
       "       '260 N12', '170 N12', '80 N12', '68 N12', '160 N12', '115 N12',\n",
       "       '280 N12', '53 N12', '60 N12', '143 N12', '42 N12', '101 N12',\n",
       "       '58 N12', '193 N12', '79 N12', '30 N12', '100 N12', '50 N12',\n",
       "       '163 N12', '225 N12', '420 N12', '211 N12', '245 N12', '560 N12',\n",
       "       '500 N12', '249 N12', '450 N12', '605 N12', '250 N12', '354 N12',\n",
       "       '120 N12', '290 N12', '230 N12', '350 N12', '204 N12', '255 N12',\n",
       "       '340 N12', '177 N12', '272 N12', '372 N12', '210 N12', '130 N12',\n",
       "       '300 N12', '190 N12', '239 N12', '435 N12', '333 N12', '271 N12',\n",
       "       '326 N12', '238 N12', '310 N12', '233 N12', '252 N12', '133 N12',\n",
       "       '460 N12', '520 N12', '400 N12', '525 N12', '367 N12', '265 N12',\n",
       "       '550 N12', '580 N12', '88 N12', '165 N12', '430 N12', '335 N12',\n",
       "       '174 N12', '224 N12', '136 N12', '256 N12', '338 N12', '112 N12',\n",
       "       '218 N12', '360 N12', '93 N12', '182 N12', '113 N12', '240 N12',\n",
       "       '270 N12', '137 N12', '155 N12', '61 N12', '254 N12', '116 N12',\n",
       "       '71 N12', '285 N12', '408 N12', '166 N12', '156 N12', '257 N12',\n",
       "       '201 N12', '162 N12', '194 N12', '142 N12', '154 N12', '147 N12',\n",
       "       '281 N12', '243 N12', '118 N12', '128 N12', '91 N12', '83 N12',\n",
       "       '205 N12', '247 N12', '188 N12', '295 N12', '275 N12', '78 N12',\n",
       "       '109 N12', '94 N12', '185 N12', '258 N12', '145 N12', '132 N12',\n",
       "       '135 N12', '52 N12', '66 N12', '124 N12', '98 N12', '215 N12',\n",
       "       '158 N12', '99 N12', '103 N12', '131 N12', '126 N12', '235 N12',\n",
       "       '181 N12', '315 N12', '203 N12', '231 N12', '82 N12', '304 N12',\n",
       "       '175 N12', '320 N12', '213 N12', '144 N12', '146 N12', '151 N12',\n",
       "       '111 N12', '286 N12', '306 N12', '107 N12', '184 N12', '313 N12',\n",
       "       '264 N12', '575 N12', '407 N12', '192 N12', '129 N12', '555 N12',\n",
       "       '625 N12', '329 N12', '370 N12', '381 N12', '269 N12', '600 N12',\n",
       "       '510 N12', '544 N12', '462 N12', '355 N12', '507 N12', '609 N12',\n",
       "       '431 N12', '530 N12', '387 N12', '610 N12', '197 N12', '343 N12',\n",
       "       '445 N12', '171 N12', '51 N12', '46 N12', '347 N12', '321 N12',\n",
       "       '167 N12', '141 N12', '169 N12', '405 N12', '117 N12', '114 N12',\n",
       "       '173 N12', '234 N12', '540 N12', '106 N12', '49 N12', '248 N12',\n",
       "       '317 N12', '309 N12', '97 N12', '121 N12', '268 N12', '149 N12',\n",
       "       '87 N12', '85 N12', '65 N12', '67 N12', '127 N12', '485 N12',\n",
       "       '186 N12', '222 N12', '307 N12', '262 N12', '302 N12', '284 N12',\n",
       "       '325 N12', '168 N12', '221 N12', '330 N12', '283 N12', '328 N12',\n",
       "       '303 N12', '278 N12', '388 N12', '571 N12', '585 N12', '612 N12',\n",
       "       '401 N12', '279 N12', '455 N12', '382 N12', '557 N12', '517 N12',\n",
       "       '394 N12', '422 N12', '292 N12', '469 N12', '522 N12', '296 N12',\n",
       "       '639 N12', '390 N12', '476 N12', '630 N12', '402 N12', '487 N12',\n",
       "       '558 N12', '421 N12', '316 N12', '514 N12', '457 N12', '626 N12',\n",
       "       '242 N12', '38 N12', '32 N12', '223 N12', '72 N12', '305 N12',\n",
       "       '183 N12', '273 N12', '159 N12', '76 N12', '148 N12', '179 N12',\n",
       "       '73 N12', '277 N12', '282 N12', '178 N12', '288 N12', '199 N12',\n",
       "       '266 N12', '92 N12', '74 N12', '324 N12', '232 N12', '157 N12',\n",
       "       '69 N12', '212 N12', '276 N12', '202 N12', '77 N12', '164 N12',\n",
       "       '96 N12', '84 N12', '228 N12', '108 N12', '208 N12', '263 N12',\n",
       "       '294 N12', '318 N12', '380 N12', '219 N12', '214 N12', '383 N12',\n",
       "       '241 N12', '57 N12', '55 N12', '104 N12', '48 N12', '40 N12',\n",
       "       '44 N12', '227 N12', '139 N12', '209 N12', '195 N12', '189 N12',\n",
       "       '480 N12', '591 N12', '301 N12', 90.0, 136.0, 101.0, 174.0, 133.0,\n",
       "       150.0, 115.0, 112.0, 230.0, 137.0, 75.0, 88.0, 113.0, 54.0, 70.0,\n",
       "       60.0, 71.0, 122.0, 61.0, 190.0, 180.0, 125.0, 160.0, 105.0, 102.0,\n",
       "       140.0, 110.0, 250.0, 200.0, 170.0, 120.0, 225.0, 130.0, 163.0,\n",
       "       211.0, 249.0, 255.0, 143.0, 220.0, 165.0, 265.0, 116.0, 193.0,\n",
       "       177.0, 239.0, 240.0, 204.0, 245.0, 340.0, 300.0, 233.0, 310.0,\n",
       "       210.0, 218.0, 290.0, 333.0, 224.0, 350.0, 338.0, 435.0, 372.0,\n",
       "       335.0, 275.0, 500.0, 260.0, 420.0, 280.0, 450.0, 285.0, 271.0,\n",
       "       238.0, 252.0, 272.0, 326.0, 580.0, 560.0, 256.0, 354.0, 360.0,\n",
       "       520.0, 400.0, 156.0, 306.0, 320.0, 184.0, 129.0, 258.0, 231.0,\n",
       "       118.0, 286.0, 192.0, 98.0, 234.0, 171.0, 100.0, 46.0, 51.0, 407.0,\n",
       "       235.0, 381.0, 462.0, 197.0, 313.0, 367.0, 544.0, 445.0, 188.0,\n",
       "       370.0, 431.0, 343.0, 507.0, 355.0, 264.0, 269.0, 347.0, 555.0,\n",
       "       575.0, 321.0, 276.0, 226.0, 175.0, 203.0, 311.0, 215.0, 322.0,\n",
       "       309.0, 304.0, 409.0, 426.0, 349.0, 299.0, 324.0, 325.0, 314.0,\n",
       "       94.0, 126.0, 109.0, 119.0, 83.0, 117.0, 68.0, 52.0, 132.0, 106.0,\n",
       "       147.0, 139.0, 152.0, 141.0, 295.0, 72.0, 84.0, 86.0, 161.0, 135.0,\n",
       "       455.0, 589.0, 312.0, 405.0, 172.0, 167.0, 437.0, 124.0, 185.0,\n",
       "       131.0, 301.0, 294.0, 345.0, 121.0, 80.0, 315.0, 403.0, 288.0, 67.0,\n",
       "       63.0, 254.0, 273.0, 318.0, 425.0, 164.0, 237.0, 228.0, 154.0,\n",
       "       257.0, 162.0, 287.0, 253.0, 279.0, 223.0, 189.0, 182.0, 283.0,\n",
       "       158.0, 95.0, 114.0, 138.0, 127.0, 178.0, 92.0, 128.0, 69.0, 38.0,\n",
       "       85.0, 107.0, 148.0, 64.0, 41.0, 173.0, 251.0, 166.0, 144.0, 380.0,\n",
       "       205.0, 103.0, 330.0, 395.0, 396.0, 305.0, 149.0, 600.0, 145.0,\n",
       "       99.0, 214.0, 123.0, 155.0, 208.0, 212.0, 213.0, 242.0, 365.0,\n",
       "       411.0, 96.0, 58.0, 82.0, 199.0, 20.0, 317.0, 421.0, 412.0, 111.0,\n",
       "       87.0, 201.0, 281.0, 142.0, 91.0, 186.0, 194.0, 78.0, 65.0, 243.0,\n",
       "       247.0, 97.0, 56.0, 430.0, 334.0, 373.0, 81.0, 66.0, 179.0, 270.0,\n",
       "       146.0, 222.0, 302.0, 307.0, 328.0, 284.0, 408.0, 221.0, 168.0,\n",
       "       262.0, 495.0, 550.0, 196.0, 298.0, 510.0, 363.0, 375.0, 385.0,\n",
       "       416.0, 468.0, 352.0, 202.0, 169.0, 187.0, 266.0, 159.0, 274.0,\n",
       "       62.0, 73.0, 424.0, 108.0, 248.0, 195.0, 277.0, 296.0, 219.0, 292.0,\n",
       "       263.0, 394.0, 388.0, 282.0, 383.0, 477.0, 104.0, 244.0, 153.0,\n",
       "       50.0, 181.0, 48.0, 227.0, 209.0, 49.0, 540.0, 530.0, 485.0, 268.0,\n",
       "       79.0, 45.0, 44.0, 40.0, 207.0, 480.0, 382.0, 440.0, 55.0, 76.0,\n",
       "       17.0, 11.0, 241.0, 93.0, 53.0, 74.0, 157.0, 151.0, 232.0, 183.0,\n",
       "       77.0, 57.0, 134.0, 339.0, 390.0, 457.0, 487.0, 517.0, 525.0, 612.0,\n",
       "       571.0, 402.0, 557.0, 585.0, 514.0, 476.0, 401.0, 558.0, 316.0],\n",
       "      dtype=object)"
      ]
     },
     "execution_count": 106,
     "metadata": {},
     "output_type": "execute_result"
    }
   ],
   "source": [
    "data['enginePower'].unique()"
   ]
  },
  {
   "cell_type": "code",
   "execution_count": 107,
   "id": "a8ffa60e",
   "metadata": {},
   "outputs": [
    {
     "data": {
      "text/plain": [
       "array(['Все автомобили, представленные в продаже, проходят тщательную проверку по более 40 параметрам. Предоставляем гарантию юридической чистоты, а так же год технической гарантии на двигатель и КПП. Бесплатный тест-драйв. Возможно оформление автомобиля в кредит!\\n\\nПреимущества автокредитования:\\n— Первоначальный взнос от 0%;\\n— Более 30 кредитных программ;\\n— Процентная ставка от 6% годовых;\\n— Срок кредита от 6 месяцев до 7 лет;\\n— Оформление кредита по двум документам;\\n— Досрочное погашение без штрафов и комиссий;\\n— Сумма кредита до 2 млн рублей;\\n— Оформление КАСКО – по желанию;\\n— Без справок и поручителей.\\n\\nСотрудничаем с 12 аккредитованными и сертифицированными банками РФ, среднее время ожидания решения банка 20–30 минут.\\n\\nПри покупке автомобиля по программе «Trade-in – выгодный обмен» или в кредит, получите дополнительную скидку до 80 000 рублей на данный автомобиль!\\n\\nЗаписаться на тест-драйв, а так же получить подробную информацию можно у специалистов автоцентра по указанному номеру телефона.',\n",
       "       'ЛОТ: 01217195\\nАвтопрага Север\\nДанный автомобиль прошел диагностику по 147 пунктам и имеет сертификат технической гарантии.\\n\\n\\nВы можете получить скидку на данный автомобиль до 50000 рублей. Подробности уточняйте у менеджеров отдела продаж.\\n\\nГК FAVORIT MOTORS строит свою работу на принципах открытости и честности! Нам доверяют более 25 лет.\\n\\n- Автомобиль продается официальным дилером FAVORIT MOTORS.\\n- Покупка и обслуживание у официального дилера.\\n- Проведена предпродажная подготовка,\\n- Гарантия юридической чистоты.\\n- Круглосуточная техническая поддержка с бесплатным эвакуатором.\\n\\n- Автомобиль можно приобрести за наличный расчет, безналичным платежом, а также мы примем вашу машину по рыночной стоимости в рамках программы трейд-ин и при необходимости — выплатим за нее кредит.\\n\\n- Возможна покупка в кредит: специальные предложения по кредитованию и страхованию.\\n- Оформление кредита по двум документам.\\n- КАСКО не обязательно.\\n\\nПриглашаем на бесплатный тест-драйв!\\n\\nГруппа компаний FAVORIT MOTORS — один из крупнейших российских холдингов, официальный дилер известных мировых брендов , которые обслуживаются в технических центрах ГК FAVORIT MOTORS в рамках официального сервиса.\\n\\nМы предлагаем полный комплекс услуг по предпродажной подготовке и последующему сервису.\\n\\nГруппа компаний FAVORIT MOTORS занимает лидирующее положение в рейтинге продаж автомобилей с пробегом по Москве и области. Это подтверждают специализированные исследования рынка за последние пять лет, указывающие на самый крупный объем реализации.\\n\\n\\n\\nВ комплектации автомобиля\\n • Тип обивки салона: Ткань\\n • Цвет салона: Темный\\n • Светодиодные дневные ходовые огни\\n • Тип фар: Галогеновые\\n • Легкосплавные диски: 16\\n • Штатная сигнализация\\n • Иммобилайзер\\n • Бортовой компьютер\\n • Система контроля давления в шинах\\n • Датчик дождя\\n • Круиз-контроль: Пассивный\\n • Обогрев лобового стекла\\n • Обогрев зеркал\\n • Усилитель руля\\n • Центральный замок\\n • Противотуманные фары\\n • Датчик света\\n • Обогрев руля\\n • Обогрев передних сидений\\n • Климат: Климат-контроль 2- зонный\\n • Электропривод зеркал\\n • Стеклоподъемники: Электро все\\n • Сиденье водителя: Ручная регулировка по высоте\\n • Сиденье пассажира: Ручная регулировка\\n • Регулировка руля: В двух плоскостях\\n • Антиблокировочная система (ABS)\\n • Антипробуксовочная система\\n • Система курсовой устойчивости\\n • Подушки безопасности: Передние и боковые\\n • Задний парковочный радар\\n • Система крепления isofix\\n • Фронтальный видеомонитор\\n • BlueTooth\\n • USB\\n • Тип открытия задней двери: Подъемная\\n • Тип передних тормозов: Дисковые\\n • Тип задних тормозов: Дисковые\\n • Тип гарантии: На гарантии',\n",
       "       'КОМПЛЕКТ ЗИМНЕЙ (ЛЕТНЕЙ) РЕЗИНЫ ПО СЕЗОНУ В ПОДАРОК!\\n\\nРАССРОЧКА НА АВТОМОБИЛИ С ПРОБЕГОМ\\nСРОК: 12-18 МЕСЯЦЕВ\\nПЕРВОНАЧАЛЬНЫЙ ВЗНОС: ОТ 0%\\nСУММА РАССРОЧКИ: ОТ 90 т.р. до 4,9 млн.р.\\n\\nОт метро Рязанский проспект бесплатный проезд до автосалона GENZES\\n\\nГарантия на автомобили различных марок сроком на 1 ГОД при общем пробеге до 150 000 км\\n-Двигатель (бензиновый или дизельный)\\n-Механическая коробка передач\\n-Автоматическая коробка передач\\n-Роботизированная коробка передач\\n-Вариатор\\n-Раздаточная коробка\\n-Редуктор заднего моста\\n-Редуктор переднего моста\\n-Радиатор системы охлаждения\\n-Радиатор кондиционера\\n\\nДополнительные комиссии отсутствуют.\\n\\nКомфортные условия выбора: бесплатный Wi-Fi, уютное кафе с клиентской зоной, большая и удобная парковка\\nВыберите подходящий автомобиль и совершите выгодную покупку в течение 1 дня!\\n\\nВсе автомобили, представленные в продаже, проходят диагностику по более 48 параметрам, с результатами диагностики Вы можете ознакомиться при осмотре автомобиля.\\n\\nПри покупке автомобиля по программе Trade-In (обмен на ваш автомобиль)  дополнительная скидка до 80 000 рублей и до 100 000 рублей при покупке автомобиля в кредит!\\n\\nПреимущества автокредитования:\\n— Ставка по кредиту от 6% годовых;\\n— Первоначальный взнос от 0%;\\n— Более 23 кредитных программ;\\n— Минимальный пакет документов – паспорт и водительское удостоверение;\\n— Срок кредита от 6 месяцев до 7 лет;\\n— Сумма кредита от 50 000 руб. до 3 000 000 рублей;\\n— Досрочное погашение без штрафов и комиссий;\\n— КАСКО – необязательно.\\n\\nАРГУМЕНТИРОВАННЫЙ ТОРГ УМЕСТЕН ТОЛЬКО ПРИ ОСМОТРЕ! ПРИГЛАШАЕМ ВАС НА БЕСПЛАТНЫЙ ТЕСТ-ДРАЙВ!\\n\\nЖдем Вас ежедневно без выходных с 9:00 до 20:00\\n2-й Вязовский проезд 12с1',\n",
       "       ...,\n",
       "       'Отличный автомобиль, состояние на 5 +. В ДТП ни разу не был. Я второй владелец, 8 лет вместе. На авто денег не жалею - мотор, коробка и прочие агрегаты в отличном состоянии. Все масла меняю во время, 10 тысяч км назад в двигателе заменены все свечи накаливания и все форсунки (только оригинал). Удален ЕГР, мотор чипован, по птс 165 лошадей, по факту 210 очень резвых коней. Топливо лью только Лукойл и Газпром, расход - зима 12 литров, летом 9 литров, трасса 8 литров. Установлена сигнализация с автозапуском, зимой до -25 градусов завожу с пульта легко! Установлен видеорегистратор-антирадар (2 в 1), стоит камера заднего вида, стоит силовой фаркоп. Сделал лифт кузова и подвески 5 лет назад, все отлично, с вида как заводской, полиция не трогает. Переделана передняя оптика (заводская, не Китай!!), теперь светит четко и ярко, не слепит и внешне красиво! В 2019 году (весной) авто полностью прошел кузовной ремонт, очень качественно и по технологии перекрашен в \"ТИТАН\" (черный и белый), на капот нанесен рисунок (тоже \"ТИТАН\"), полностью укрыт шумоизоляцией внутри салона. Переделаны пороги, вместо штатных пластиковых изготовлены и уставлены железные с алюминиевой вставкой. Установлен прямой кардан (без подвесного). Три комплекта колес: летние R 18 Якогамма (почти новые) на литых дисках, зимние R 18 Сайлун (новая шипованная!), не шумит и отлично едет; и его родные диски R 16 на высокой зимней резине Нокиан Хакка, то что сейчас на фото, состояние 50 % остаток, решил докатать их летом, чтобы сберечь R 18. \\nПробег 220 000 тыс.км, не мотал! \\nМотор масло не ест! Любая проверка!\\nПродаю только с переоформлением. Машина оправдает вложение.\\nПТС оригинал, я владелец.  Фаркоп. Не участвовала в ДТП. Непрокуренный салон. Пройдены все ТО. Сервисная книжка. Своевременное обслуживание. Комплект летних шин в подарок. Комплект зимних шин в подарок.',\n",
       "       'Автомобиль куплен в декабре 2015 г., новым. Всё, что должно было сломаться,  сломалось и отремонтировано. Кто в курсе, и передние амортизаторы то же. Сейчас установлены от ПРАДО. ВСЁ РАБОТАЕТ ОТЛИЧНО. ',\n",
       "       'Авто в отличном состоянии всё работает. Большой вместительный минивэн повышенной проходимости: \\nКомплектация - предмаксимальная Elegance (отличие от максимальной - нет люка и салон тканевый).Есть зимнии шины практически новые. Последнее ТО 130ткм поменял шаровые опоры ремень ролики. Авто полностью готово к дальнейшей эксплуотации.'],\n",
       "      dtype=object)"
      ]
     },
     "execution_count": 107,
     "metadata": {},
     "output_type": "execute_result"
    }
   ],
   "source": [
    "# \n",
    "data['description'].unique()"
   ]
  },
  {
   "cell_type": "code",
   "execution_count": 108,
   "id": "d0d5166d",
   "metadata": {},
   "outputs": [
    {
     "data": {
      "text/plain": [
       "array(['OCTAVIA', 'SUPERB', 'OCTAVIA_RS', ..., 'REXTON', 'RODIUS',\n",
       "       'STAVIC'], dtype=object)"
      ]
     },
     "execution_count": 108,
     "metadata": {},
     "output_type": "execute_result"
    }
   ],
   "source": [
    "data['model_name'].unique()"
   ]
  },
  {
   "cell_type": "code",
   "execution_count": 109,
   "id": "7aaafd4c",
   "metadata": {},
   "outputs": [
    {
     "data": {
      "text/plain": [
       "3.0            20683\n",
       "3 или более    15957\n",
       "2.0            12500\n",
       "1.0            12185\n",
       "1 владелец      9459\n",
       "2 владельца     9270\n",
       "Name: Владельцы, dtype: int64"
      ]
     },
     "execution_count": 109,
     "metadata": {},
     "output_type": "execute_result"
    }
   ],
   "source": [
    "data['Владельцы'].value_counts()"
   ]
  },
  {
   "cell_type": "code",
   "execution_count": 110,
   "id": "50d90ce0",
   "metadata": {},
   "outputs": [
    {
     "data": {
      "text/plain": [
       "передний    45383\n",
       "полный      33355\n",
       "задний       8133\n",
       "Name: Привод, dtype: int64"
      ]
     },
     "execution_count": 110,
     "metadata": {},
     "output_type": "execute_result"
    }
   ],
   "source": [
    "data['Привод'].value_counts()"
   ]
  },
  {
   "cell_type": "markdown",
   "id": "a0a7e416",
   "metadata": {},
   "source": [
    "### Промежуточные выводы:\n",
    "\n",
    "- признак ***bodyType*** имеет множество значений, необходим label encoding.\n",
    "- признак ***Brand*** имеет множество значений с нормальным распределением, необходим label encoding.\n",
    "- признак ***color*** имеет разные типы представления цвета.\n",
    "- признак ***name*** имеет множество значений, необходим label encoding.\n",
    "- признак ***model_name***  имеет множество значений, необходим label encoding.\n",
    "- признак ***engineDisplacement*** имеет множество значений, необходим label encoding.\n",
    "- признак ***description*** - содержит описание, имеет много пропусков и не без глубокой обработки не несет в себе полезной информации. Принимаю решение удалить данный признак.\n",
    "- признаки ***vehicleConfiguration***. Имееют разрозненные данные имеющиеся в других признаках. Избавимся от них.\n",
    "- признак ***Топливо***. принимает 3 значения, использую его как dummy переменные.\n",
    "- признак ***vehicleTransmission***. Принимает 4 значения, но на разных языках, требует обработки.\n",
    "- признак ***Владельцы*** - Имеет пропуски, принимает 3 значения требующие обработку. Пропущенные значение заполним модой: '3'.\n",
    "- признак ***Привод***. принимает 3 значения, использую его как dummy переменные.\n",
    "- признак ***enginePower*** на самом деле является числовым, требует соответствующей обработки."
   ]
  },
  {
   "cell_type": "code",
   "execution_count": 111,
   "id": "c9a9de5c",
   "metadata": {},
   "outputs": [],
   "source": [
    "# Удалим обозначенные признаки\n",
    "data.drop(['vehicleConfiguration', 'description'], axis=1, inplace=True)\n",
    "cat_cols.remove('vehicleConfiguration')\n",
    "cat_cols.remove('description')"
   ]
  },
  {
   "cell_type": "code",
   "execution_count": 112,
   "id": "95736656",
   "metadata": {},
   "outputs": [],
   "source": [
    "# создадим dummy переменные топлива\n",
    "data = pd.get_dummies(data, prefix='топливо', columns=['fuelType'])"
   ]
  },
  {
   "cell_type": "code",
   "execution_count": 113,
   "id": "3f8c3093",
   "metadata": {},
   "outputs": [],
   "source": [
    "# обработаем и создадим dummy переменные типа коробки передач\n",
    "data = data.replace({'vehicleTransmission': {'роботизированная': 'ROBOT', 'механическая': 'MECHANICAL',\n",
    "                                             'автоматическая': 'AUTOMATIC', 'вариатор': 'VARIATOR'}})\n",
    "data = pd.get_dummies(data, prefix='vehicle', columns=['vehicleTransmission'])"
   ]
  },
  {
   "cell_type": "code",
   "execution_count": 114,
   "id": "e60f72a3",
   "metadata": {},
   "outputs": [
    {
     "name": "stderr",
     "output_type": "stream",
     "text": [
      "<ipython-input-114-06383caaf5ca>:7: DeprecationWarning: `np.int` is a deprecated alias for the builtin `int`. To silence this warning, use `int` by itself. Doing this will not modify any behavior and is safe. When replacing `np.int`, you may wish to use e.g. `np.int64` or `np.int32` to specify the precision. If you wish to review your current use, check the release note link for additional information.\n",
      "Deprecated in NumPy 1.20; for more details and guidance: https://numpy.org/devdocs/release/1.20.0-notes.html#deprecations\n",
      "  data = data.astype({'Владельцы': np.int})\n"
     ]
    }
   ],
   "source": [
    "# обработаем признак владельцы\n",
    "data = data.replace({'Владельцы': {'3 или более': 3, '1\\xa0владелец': 1,\n",
    "                                   '2\\xa0владельца': 2}})\n",
    "data['Владельцы'] = data['Владельцы'].fillna(3)\n",
    "\n",
    "# преобразуем количество владельцев в Int\n",
    "data = data.astype({'Владельцы': np.int})"
   ]
  },
  {
   "cell_type": "code",
   "execution_count": 115,
   "id": "87043fea",
   "metadata": {},
   "outputs": [],
   "source": [
    "# создадим dummy переменные привода\n",
    "data = pd.get_dummies(data, prefix='Привод', columns=['Привод'])"
   ]
  },
  {
   "cell_type": "code",
   "execution_count": 116,
   "id": "96075b3d",
   "metadata": {},
   "outputs": [],
   "source": [
    "# обработаем признак enginePower и добавим к числовым признакам\n",
    "a = []\n",
    "for x in data['enginePower']:\n",
    "    t = str(x).replace(' N12', '')\n",
    "    a.append(float(t))\n",
    "data['power'] = a\n",
    "data.drop(['enginePower'], axis=1, inplace=True)\n",
    "cat_cols.remove('enginePower')\n",
    "num_cols.append('power')"
   ]
  },
  {
   "cell_type": "code",
   "execution_count": 117,
   "id": "ab70100c",
   "metadata": {},
   "outputs": [],
   "source": [
    "# сразу прологарифмируем признак\n",
    "data['power'] = get_log(data, 'power')"
   ]
  },
  {
   "cell_type": "code",
   "execution_count": 118,
   "id": "7b64240b",
   "metadata": {},
   "outputs": [],
   "source": [
    "# удалим из списка обработанные переменные\n",
    "cat_cols.remove('fuelType')\n",
    "cat_cols.remove('vehicleTransmission')\n",
    "cat_cols.remove('Привод')"
   ]
  },
  {
   "cell_type": "code",
   "execution_count": 119,
   "id": "69a42597",
   "metadata": {},
   "outputs": [
    {
     "data": {
      "text/html": [
       "<div>\n",
       "<style scoped>\n",
       "    .dataframe tbody tr th:only-of-type {\n",
       "        vertical-align: middle;\n",
       "    }\n",
       "\n",
       "    .dataframe tbody tr th {\n",
       "        vertical-align: top;\n",
       "    }\n",
       "\n",
       "    .dataframe thead th {\n",
       "        text-align: right;\n",
       "    }\n",
       "</style>\n",
       "<table border=\"1\" class=\"dataframe\">\n",
       "  <thead>\n",
       "    <tr style=\"text-align: right;\">\n",
       "      <th></th>\n",
       "      <th>bodyType</th>\n",
       "      <th>brand</th>\n",
       "      <th>color</th>\n",
       "      <th>name</th>\n",
       "      <th>engineDisplacement</th>\n",
       "      <th>model_name</th>\n",
       "      <th>Владельцы</th>\n",
       "    </tr>\n",
       "  </thead>\n",
       "  <tbody>\n",
       "    <tr>\n",
       "      <th>0</th>\n",
       "      <td>лифтбек</td>\n",
       "      <td>SKODA</td>\n",
       "      <td>синий</td>\n",
       "      <td>1.2 AMT (105 л.с.)</td>\n",
       "      <td>1.2 LTR</td>\n",
       "      <td>OCTAVIA</td>\n",
       "      <td>3</td>\n",
       "    </tr>\n",
       "    <tr>\n",
       "      <th>1</th>\n",
       "      <td>лифтбек</td>\n",
       "      <td>SKODA</td>\n",
       "      <td>чёрный</td>\n",
       "      <td>1.6 MT (110 л.с.)</td>\n",
       "      <td>1.6 LTR</td>\n",
       "      <td>OCTAVIA</td>\n",
       "      <td>1</td>\n",
       "    </tr>\n",
       "    <tr>\n",
       "      <th>2</th>\n",
       "      <td>лифтбек</td>\n",
       "      <td>SKODA</td>\n",
       "      <td>серый</td>\n",
       "      <td>DSG 1.8 AMT (152 л.с.)</td>\n",
       "      <td>1.8 LTR</td>\n",
       "      <td>SUPERB</td>\n",
       "      <td>1</td>\n",
       "    </tr>\n",
       "    <tr>\n",
       "      <th>3</th>\n",
       "      <td>лифтбек</td>\n",
       "      <td>SKODA</td>\n",
       "      <td>коричневый</td>\n",
       "      <td>1.6 AT (110 л.с.)</td>\n",
       "      <td>1.6 LTR</td>\n",
       "      <td>OCTAVIA</td>\n",
       "      <td>1</td>\n",
       "    </tr>\n",
       "    <tr>\n",
       "      <th>4</th>\n",
       "      <td>лифтбек</td>\n",
       "      <td>SKODA</td>\n",
       "      <td>белый</td>\n",
       "      <td>1.8 AT (152 л.с.)</td>\n",
       "      <td>1.8 LTR</td>\n",
       "      <td>OCTAVIA</td>\n",
       "      <td>1</td>\n",
       "    </tr>\n",
       "    <tr>\n",
       "      <th>...</th>\n",
       "      <td>...</td>\n",
       "      <td>...</td>\n",
       "      <td>...</td>\n",
       "      <td>...</td>\n",
       "      <td>...</td>\n",
       "      <td>...</td>\n",
       "      <td>...</td>\n",
       "    </tr>\n",
       "    <tr>\n",
       "      <th>91265</th>\n",
       "      <td>Внедорожник 5 дв.</td>\n",
       "      <td>SSANG_YONG</td>\n",
       "      <td>040001</td>\n",
       "      <td>2.7d AT (186 л.с.) 4WD</td>\n",
       "      <td>2.7d</td>\n",
       "      <td>REXTON</td>\n",
       "      <td>1</td>\n",
       "    </tr>\n",
       "    <tr>\n",
       "      <th>91266</th>\n",
       "      <td>Внедорожник 5 дв.</td>\n",
       "      <td>SSANG_YONG</td>\n",
       "      <td>040001</td>\n",
       "      <td>2.7d AT (163 л.с.) 4WD</td>\n",
       "      <td>2.7d</td>\n",
       "      <td>REXTON</td>\n",
       "      <td>2</td>\n",
       "    </tr>\n",
       "    <tr>\n",
       "      <th>91267</th>\n",
       "      <td>Минивэн</td>\n",
       "      <td>SSANG_YONG</td>\n",
       "      <td>040001</td>\n",
       "      <td>2.7d AT (165 л.с.) 4WD</td>\n",
       "      <td>2.7d</td>\n",
       "      <td>RODIUS</td>\n",
       "      <td>1</td>\n",
       "    </tr>\n",
       "    <tr>\n",
       "      <th>91268</th>\n",
       "      <td>Минивэн</td>\n",
       "      <td>SSANG_YONG</td>\n",
       "      <td>040001</td>\n",
       "      <td>2.0d AT (149 л.с.) 4WD</td>\n",
       "      <td>2.0d</td>\n",
       "      <td>STAVIC</td>\n",
       "      <td>1</td>\n",
       "    </tr>\n",
       "    <tr>\n",
       "      <th>91269</th>\n",
       "      <td>Минивэн</td>\n",
       "      <td>SSANG_YONG</td>\n",
       "      <td>FAFBFB</td>\n",
       "      <td>2.0d AT (149 л.с.) 4WD</td>\n",
       "      <td>2.0d</td>\n",
       "      <td>STAVIC</td>\n",
       "      <td>2</td>\n",
       "    </tr>\n",
       "  </tbody>\n",
       "</table>\n",
       "<p>86871 rows × 7 columns</p>\n",
       "</div>"
      ],
      "text/plain": [
       "                bodyType       brand       color                    name  \\\n",
       "0                лифтбек       SKODA       синий      1.2 AMT (105 л.с.)   \n",
       "1                лифтбек       SKODA      чёрный       1.6 MT (110 л.с.)   \n",
       "2                лифтбек       SKODA       серый  DSG 1.8 AMT (152 л.с.)   \n",
       "3                лифтбек       SKODA  коричневый       1.6 AT (110 л.с.)   \n",
       "4                лифтбек       SKODA       белый       1.8 AT (152 л.с.)   \n",
       "...                  ...         ...         ...                     ...   \n",
       "91265  Внедорожник 5 дв.  SSANG_YONG      040001  2.7d AT (186 л.с.) 4WD   \n",
       "91266  Внедорожник 5 дв.  SSANG_YONG      040001  2.7d AT (163 л.с.) 4WD   \n",
       "91267            Минивэн  SSANG_YONG      040001  2.7d AT (165 л.с.) 4WD   \n",
       "91268            Минивэн  SSANG_YONG      040001  2.0d AT (149 л.с.) 4WD   \n",
       "91269            Минивэн  SSANG_YONG      FAFBFB  2.0d AT (149 л.с.) 4WD   \n",
       "\n",
       "      engineDisplacement model_name  Владельцы  \n",
       "0                1.2 LTR    OCTAVIA          3  \n",
       "1                1.6 LTR    OCTAVIA          1  \n",
       "2                1.8 LTR     SUPERB          1  \n",
       "3                1.6 LTR    OCTAVIA          1  \n",
       "4                1.8 LTR    OCTAVIA          1  \n",
       "...                  ...        ...        ...  \n",
       "91265               2.7d     REXTON          1  \n",
       "91266               2.7d     REXTON          2  \n",
       "91267               2.7d     RODIUS          1  \n",
       "91268               2.0d     STAVIC          1  \n",
       "91269               2.0d     STAVIC          2  \n",
       "\n",
       "[86871 rows x 7 columns]"
      ]
     },
     "execution_count": 119,
     "metadata": {},
     "output_type": "execute_result"
    }
   ],
   "source": [
    "data[cat_cols]"
   ]
  },
  {
   "cell_type": "code",
   "execution_count": 120,
   "id": "4a8c4ae8",
   "metadata": {},
   "outputs": [
    {
     "name": "stdout",
     "output_type": "stream",
     "text": [
      "<class 'pandas.core.frame.DataFrame'>\n",
      "Int64Index: 86871 entries, 0 to 91269\n",
      "Data columns (total 30 columns):\n",
      " #   Column              Non-Null Count  Dtype  \n",
      "---  ------              --------------  -----  \n",
      " 0   bodyType            86871 non-null  object \n",
      " 1   brand               86871 non-null  object \n",
      " 2   color               86871 non-null  object \n",
      " 3   modelDate           86871 non-null  float64\n",
      " 4   name                86871 non-null  object \n",
      " 5   numberOfDoors       86871 non-null  float64\n",
      " 6   productionDate      86871 non-null  float64\n",
      " 7   engineDisplacement  86871 non-null  object \n",
      " 8   mileage             86871 non-null  float64\n",
      " 9   Руль                86871 non-null  object \n",
      " 10  Состояние           34686 non-null  object \n",
      " 11  Владельцы           86871 non-null  int32  \n",
      " 12  ПТС                 86658 non-null  object \n",
      " 13  Таможня             86871 non-null  object \n",
      " 14  price               86871 non-null  float64\n",
      " 15  model_name          86871 non-null  object \n",
      " 16  sample              86871 non-null  int64  \n",
      " 17  топливо_бензин      86871 non-null  uint8  \n",
      " 18  топливо_газ         86871 non-null  uint8  \n",
      " 19  топливо_гибрид      86871 non-null  uint8  \n",
      " 20  топливо_дизель      86871 non-null  uint8  \n",
      " 21  топливо_электро     86871 non-null  uint8  \n",
      " 22  vehicle_AUTOMATIC   86871 non-null  uint8  \n",
      " 23  vehicle_MECHANICAL  86871 non-null  uint8  \n",
      " 24  vehicle_ROBOT       86871 non-null  uint8  \n",
      " 25  vehicle_VARIATOR    86871 non-null  uint8  \n",
      " 26  Привод_задний       86871 non-null  uint8  \n",
      " 27  Привод_передний     86871 non-null  uint8  \n",
      " 28  Привод_полный       86871 non-null  uint8  \n",
      " 29  power               86871 non-null  float64\n",
      "dtypes: float64(6), int32(1), int64(1), object(10), uint8(12)\n",
      "memory usage: 15.3+ MB\n"
     ]
    }
   ],
   "source": [
    "data.info()"
   ]
  },
  {
   "cell_type": "code",
   "execution_count": 121,
   "id": "cd3a4a6f",
   "metadata": {},
   "outputs": [],
   "source": [
    "# проиводим кодировку категориальных признаков\n",
    "for colum in ['bodyType', 'brand', 'color', 'name', 'engineDisplacement', 'model_name']:\n",
    "    data[colum] = data[colum].astype('category').cat.codes"
   ]
  },
  {
   "cell_type": "code",
   "execution_count": 122,
   "id": "9cf5dfb5",
   "metadata": {},
   "outputs": [
    {
     "data": {
      "text/plain": [
       "<AxesSubplot:>"
      ]
     },
     "execution_count": 122,
     "metadata": {},
     "output_type": "execute_result"
    },
    {
     "data": {
      "image/png": "[encoded data removed]",
      "text/plain": [
       "<Figure size 432x288 with 2 Axes>"
      ]
     },
     "metadata": {
      "needs_background": "light"
     },
     "output_type": "display_data"
    }
   ],
   "source": [
    "# Проведем корреляционный анализ категоральных признаков\n",
    "sns.heatmap(data[cat_cols].corr().abs(), annot=True, vmin=0, vmax=1)"
   ]
  },
  {
   "cell_type": "code",
   "execution_count": 123,
   "id": "f188c98f",
   "metadata": {},
   "outputs": [
    {
     "data": {
      "text/plain": [
       "<AxesSubplot:>"
      ]
     },
     "execution_count": 123,
     "metadata": {},
     "output_type": "execute_result"
    },
    {
     "data": {
      "image/png": "[encoded data removed]",
      "text/plain": [
       "<Figure size 504x360 with 1 Axes>"
      ]
     },
     "metadata": {
      "needs_background": "light"
     },
     "output_type": "display_data"
    }
   ],
   "source": [
    "# определим значимость категориальных признаков с помощью функции mutual_info_classif\n",
    "fig = plt.subplots(figsize=(7, 5))\n",
    "imp_cat = pd.Series(mutual_info_classif(data.query('sample == 1')[cat_cols], data.query('sample == 1')['price'],\n",
    "                                        discrete_features=True), index=cat_cols)\n",
    "imp_cat.sort_values(inplace=True)\n",
    "imp_cat.plot(kind='barh')"
   ]
  },
  {
   "cell_type": "markdown",
   "id": "c5e960a7",
   "metadata": {},
   "source": [
    "**Резюме**: Максимальное значение коэффициента корреляции составляет 0,84 между признаками ***name/engineDisplacement***. Это говорит о большой связи этих параметров, так как по значимости ***name*** занимает верхнюю позицию, избавимся от ***engineDisplacement***. Оценка значимости признаков показывает, что все признаки в той или иной степени влияют на целевой. Самым значимым из чиловых признаков является ***name***."
   ]
  },
  {
   "cell_type": "code",
   "execution_count": 124,
   "id": "cf28f1b4",
   "metadata": {},
   "outputs": [],
   "source": [
    "# Удалим признак engineDisplacement\n",
    "data.drop(['engineDisplacement'], axis=1, inplace=True)\n",
    "cat_cols.remove('engineDisplacement')"
   ]
  },
  {
   "cell_type": "markdown",
   "id": "d35fa948",
   "metadata": {},
   "source": [
    "# Бинарные признаки"
   ]
  },
  {
   "cell_type": "code",
   "execution_count": 125,
   "id": "6c217092",
   "metadata": {},
   "outputs": [
    {
     "data": {
      "text/html": [
       "<div>\n",
       "<style scoped>\n",
       "    .dataframe tbody tr th:only-of-type {\n",
       "        vertical-align: middle;\n",
       "    }\n",
       "\n",
       "    .dataframe tbody tr th {\n",
       "        vertical-align: top;\n",
       "    }\n",
       "\n",
       "    .dataframe thead th {\n",
       "        text-align: right;\n",
       "    }\n",
       "</style>\n",
       "<table border=\"1\" class=\"dataframe\">\n",
       "  <thead>\n",
       "    <tr style=\"text-align: right;\">\n",
       "      <th></th>\n",
       "      <th>ПТС</th>\n",
       "      <th>Руль</th>\n",
       "      <th>Состояние</th>\n",
       "      <th>Таможня</th>\n",
       "    </tr>\n",
       "  </thead>\n",
       "  <tbody>\n",
       "    <tr>\n",
       "      <th>0</th>\n",
       "      <td>Оригинал</td>\n",
       "      <td>Левый</td>\n",
       "      <td>Не требует ремонта</td>\n",
       "      <td>Растаможен</td>\n",
       "    </tr>\n",
       "    <tr>\n",
       "      <th>1</th>\n",
       "      <td>Оригинал</td>\n",
       "      <td>Левый</td>\n",
       "      <td>Не требует ремонта</td>\n",
       "      <td>Растаможен</td>\n",
       "    </tr>\n",
       "    <tr>\n",
       "      <th>2</th>\n",
       "      <td>Оригинал</td>\n",
       "      <td>Левый</td>\n",
       "      <td>Не требует ремонта</td>\n",
       "      <td>Растаможен</td>\n",
       "    </tr>\n",
       "    <tr>\n",
       "      <th>3</th>\n",
       "      <td>Оригинал</td>\n",
       "      <td>Левый</td>\n",
       "      <td>Не требует ремонта</td>\n",
       "      <td>Растаможен</td>\n",
       "    </tr>\n",
       "    <tr>\n",
       "      <th>4</th>\n",
       "      <td>Оригинал</td>\n",
       "      <td>Левый</td>\n",
       "      <td>Не требует ремонта</td>\n",
       "      <td>Растаможен</td>\n",
       "    </tr>\n",
       "  </tbody>\n",
       "</table>\n",
       "</div>"
      ],
      "text/plain": [
       "        ПТС   Руль           Состояние     Таможня\n",
       "0  Оригинал  Левый  Не требует ремонта  Растаможен\n",
       "1  Оригинал  Левый  Не требует ремонта  Растаможен\n",
       "2  Оригинал  Левый  Не требует ремонта  Растаможен\n",
       "3  Оригинал  Левый  Не требует ремонта  Растаможен\n",
       "4  Оригинал  Левый  Не требует ремонта  Растаможен"
      ]
     },
     "execution_count": 125,
     "metadata": {},
     "output_type": "execute_result"
    }
   ],
   "source": [
    "data[bin_cols].head()"
   ]
  },
  {
   "cell_type": "code",
   "execution_count": 126,
   "id": "dabcd921",
   "metadata": {},
   "outputs": [],
   "source": [
    "data = data.replace({'ПТС': {'Оригинал': 'ORIGINAL', 'Дубликат': 'DUPLICATE'}})\n",
    "data['ПТС'] = data['ПТС'].fillna('DUPLICATE')"
   ]
  },
  {
   "cell_type": "code",
   "execution_count": 127,
   "id": "db188f72",
   "metadata": {},
   "outputs": [],
   "source": [
    "data = data.replace({'Руль': {'Левый': 'LEFT', 'Правый': 'RIGHT'}})"
   ]
  },
  {
   "cell_type": "code",
   "execution_count": 128,
   "id": "b5c81c63",
   "metadata": {},
   "outputs": [
    {
     "data": {
      "text/plain": [
       "array(['Растаможен', True], dtype=object)"
      ]
     },
     "execution_count": 128,
     "metadata": {},
     "output_type": "execute_result"
    }
   ],
   "source": [
    "data['Таможня'].unique()"
   ]
  },
  {
   "cell_type": "code",
   "execution_count": 129,
   "id": "77311ffe",
   "metadata": {},
   "outputs": [
    {
     "data": {
      "text/plain": [
       "array(['Не требует ремонта', nan], dtype=object)"
      ]
     },
     "execution_count": 129,
     "metadata": {},
     "output_type": "execute_result"
    }
   ],
   "source": [
    "data['Состояние'].unique()"
   ]
  },
  {
   "cell_type": "code",
   "execution_count": 130,
   "id": "3a74aef5",
   "metadata": {},
   "outputs": [],
   "source": [
    "# В признаке таможня всего одно значение, для модели никакой информации не несет\n",
    "# Аналогично в признаке Состояние\n",
    "data.drop(['Состояние', 'Таможня'], axis=1, inplace=True)\n",
    "bin_cols.remove('Состояние')\n",
    "bin_cols.remove('Таможня')"
   ]
  },
  {
   "cell_type": "code",
   "execution_count": 131,
   "id": "e97561fe",
   "metadata": {},
   "outputs": [
    {
     "name": "stdout",
     "output_type": "stream",
     "text": [
      "{0: 'DUPLICATE', 1: 'ORIGINAL'}\n",
      "{0: 'LEFT', 1: 'RIGHT'}\n"
     ]
    },
    {
     "data": {
      "text/html": [
       "<div>\n",
       "<style scoped>\n",
       "    .dataframe tbody tr th:only-of-type {\n",
       "        vertical-align: middle;\n",
       "    }\n",
       "\n",
       "    .dataframe tbody tr th {\n",
       "        vertical-align: top;\n",
       "    }\n",
       "\n",
       "    .dataframe thead th {\n",
       "        text-align: right;\n",
       "    }\n",
       "</style>\n",
       "<table border=\"1\" class=\"dataframe\">\n",
       "  <thead>\n",
       "    <tr style=\"text-align: right;\">\n",
       "      <th></th>\n",
       "      <th>ПТС</th>\n",
       "      <th>Руль</th>\n",
       "    </tr>\n",
       "  </thead>\n",
       "  <tbody>\n",
       "    <tr>\n",
       "      <th>0</th>\n",
       "      <td>1</td>\n",
       "      <td>0</td>\n",
       "    </tr>\n",
       "    <tr>\n",
       "      <th>1</th>\n",
       "      <td>1</td>\n",
       "      <td>0</td>\n",
       "    </tr>\n",
       "    <tr>\n",
       "      <th>2</th>\n",
       "      <td>1</td>\n",
       "      <td>0</td>\n",
       "    </tr>\n",
       "    <tr>\n",
       "      <th>3</th>\n",
       "      <td>1</td>\n",
       "      <td>0</td>\n",
       "    </tr>\n",
       "    <tr>\n",
       "      <th>4</th>\n",
       "      <td>1</td>\n",
       "      <td>0</td>\n",
       "    </tr>\n",
       "  </tbody>\n",
       "</table>\n",
       "</div>"
      ],
      "text/plain": [
       "   ПТС  Руль\n",
       "0    1     0\n",
       "1    1     0\n",
       "2    1     0\n",
       "3    1     0\n",
       "4    1     0"
      ]
     },
     "execution_count": 131,
     "metadata": {},
     "output_type": "execute_result"
    }
   ],
   "source": [
    "# проведем Label Encoding бинарных признаков\n",
    "le = LabelEncoder()\n",
    "for column in bin_cols:\n",
    "    data[column] = le.fit_transform(data[column])\n",
    "    print(dict(enumerate(le.classes_)))\n",
    "\n",
    "data[bin_cols].head()"
   ]
  },
  {
   "cell_type": "code",
   "execution_count": 132,
   "id": "db1ea24f",
   "metadata": {},
   "outputs": [
    {
     "data": {
      "text/plain": [
       "<AxesSubplot:>"
      ]
     },
     "execution_count": 132,
     "metadata": {},
     "output_type": "execute_result"
    },
    {
     "data": {
      "image/png": "[encoded data removed]",
      "text/plain": [
       "<Figure size 432x288 with 2 Axes>"
      ]
     },
     "metadata": {
      "needs_background": "light"
     },
     "output_type": "display_data"
    }
   ],
   "source": [
    "# Проведем корреляционный анализ бинарных признаков\n",
    "sns.heatmap(data[bin_cols].corr().abs(), annot=True, vmin=0, vmax=1)"
   ]
  },
  {
   "cell_type": "code",
   "execution_count": 133,
   "id": "08c77dfc",
   "metadata": {},
   "outputs": [
    {
     "name": "stdout",
     "output_type": "stream",
     "text": [
      "<class 'pandas.core.frame.DataFrame'>\n",
      "Int64Index: 86871 entries, 0 to 91269\n",
      "Data columns (total 27 columns):\n",
      " #   Column              Non-Null Count  Dtype  \n",
      "---  ------              --------------  -----  \n",
      " 0   bodyType            86871 non-null  int16  \n",
      " 1   brand               86871 non-null  int8   \n",
      " 2   color               86871 non-null  int8   \n",
      " 3   modelDate           86871 non-null  float64\n",
      " 4   name                86871 non-null  int16  \n",
      " 5   numberOfDoors       86871 non-null  float64\n",
      " 6   productionDate      86871 non-null  float64\n",
      " 7   mileage             86871 non-null  float64\n",
      " 8   Руль                86871 non-null  int32  \n",
      " 9   Владельцы           86871 non-null  int32  \n",
      " 10  ПТС                 86871 non-null  int32  \n",
      " 11  price               86871 non-null  float64\n",
      " 12  model_name          86871 non-null  int16  \n",
      " 13  sample              86871 non-null  int64  \n",
      " 14  топливо_бензин      86871 non-null  uint8  \n",
      " 15  топливо_газ         86871 non-null  uint8  \n",
      " 16  топливо_гибрид      86871 non-null  uint8  \n",
      " 17  топливо_дизель      86871 non-null  uint8  \n",
      " 18  топливо_электро     86871 non-null  uint8  \n",
      " 19  vehicle_AUTOMATIC   86871 non-null  uint8  \n",
      " 20  vehicle_MECHANICAL  86871 non-null  uint8  \n",
      " 21  vehicle_ROBOT       86871 non-null  uint8  \n",
      " 22  vehicle_VARIATOR    86871 non-null  uint8  \n",
      " 23  Привод_задний       86871 non-null  uint8  \n",
      " 24  Привод_передний     86871 non-null  uint8  \n",
      " 25  Привод_полный       86871 non-null  uint8  \n",
      " 26  power               86871 non-null  float64\n",
      "dtypes: float64(6), int16(3), int32(3), int64(1), int8(2), uint8(12)\n",
      "memory usage: 10.0 MB\n"
     ]
    }
   ],
   "source": [
    "data.info()"
   ]
  },
  {
   "cell_type": "markdown",
   "id": "1bfa73bb",
   "metadata": {},
   "source": [
    "# Подготовка данных к обучению"
   ]
  },
  {
   "cell_type": "code",
   "execution_count": 148,
   "id": "852b928e",
   "metadata": {},
   "outputs": [],
   "source": [
    "# Разделим объединенный датасет на тренировочный и тестовый:\n",
    "df_train = data.query('sample == 1').drop(['sample'], axis=1)\n",
    "df_test = data.query('sample == 0').drop(['sample', 'price'], axis=1)\n",
    "# Обозначаим целевой признак\n",
    "y = df_train['price']"
   ]
  },
  {
   "cell_type": "code",
   "execution_count": 149,
   "id": "0341e4be",
   "metadata": {},
   "outputs": [],
   "source": [
    "X = df_train.drop(['price'], axis=1)\n",
    "X_sub = df_test"
   ]
  },
  {
   "cell_type": "code",
   "execution_count": 150,
   "id": "442fd062",
   "metadata": {},
   "outputs": [
    {
     "name": "stdout",
     "output_type": "stream",
     "text": [
      "Размер тренировочной выборки: (41748, 25)\n",
      "Размер валидационной выборки: (10437, 25)\n"
     ]
    }
   ],
   "source": [
    "# Разбиваем данные на тренировочные и тестовые\n",
    "X_train, X_test, y_train, y_test = train_test_split(\n",
    "    X, y, test_size=0.2, shuffle=True, random_state=RANDOM_SEED)\n",
    "print(\n",
    "    f'Размер тренировочной выборки: {X_train.shape}\\nРазмер валидационной выборки: {X_test.shape}')"
   ]
  },
  {
   "cell_type": "code",
   "execution_count": 145,
   "id": "13decb1a",
   "metadata": {},
   "outputs": [
    {
     "name": "stdout",
     "output_type": "stream",
     "text": [
      "(41748, 25) (10437, 25)\n"
     ]
    }
   ],
   "source": [
    "# Стандартизация данных ухудшила показатели при обучении.\n",
    "'''\n",
    "standart_scaler = StandardScaler()\n",
    "X_train = standart_scaler.fit_transform(X_train)\n",
    "X_test = standart_scaler.fit_transform(X_test)\n",
    "print(X_train.shape, X_test.shape)\n",
    "'''"
   ]
  },
  {
   "cell_type": "markdown",
   "id": "7de0d50b",
   "metadata": {},
   "source": [
    "# Model 1: RandomForestRegressor"
   ]
  },
  {
   "cell_type": "code",
   "execution_count": 165,
   "id": "739f7ac9",
   "metadata": {},
   "outputs": [
    {
     "name": "stdout",
     "output_type": "stream",
     "text": [
      "Точность модели по метрике MAPE: 12.76%\n"
     ]
    }
   ],
   "source": [
    "# Попробуем обучить модель со стандартными параметрами\n",
    "model = RandomForestRegressor(random_state=RANDOM_SEED, n_jobs=-1)\n",
    "\n",
    "model.fit(X_train, np.log(y_train))\n",
    "model_pred = np.exp(model.predict(X_test))\n",
    "\n",
    "print(\n",
    "    f\"Точность модели по метрике MAPE: {(mape(y_test, model_pred))*100:0.2f}%\")"
   ]
  },
  {
   "cell_type": "code",
   "execution_count": 1155,
   "id": "b89024a6",
   "metadata": {},
   "outputs": [
    {
     "name": "stdout",
     "output_type": "stream",
     "text": [
      "Fitting 3 folds for each of 100 candidates, totalling 300 fits\n"
     ]
    },
    {
     "name": "stderr",
     "output_type": "stream",
     "text": [
      "C:\\ProgramData\\Anaconda3\\lib\\site-packages\\sklearn\\model_selection\\_search.py:918: UserWarning: One or more of the test scores are non-finite: [0.96852787 0.96869879 0.95893686 0.96886495        nan        nan\n",
      "        nan 0.9685834  0.96876145        nan 0.9683639  0.95957459\n",
      "        nan 0.96843085 0.95947071        nan 0.95927046        nan\n",
      "        nan        nan 0.95959454        nan        nan        nan\n",
      " 0.9695638  0.96888462 0.96872497        nan        nan 0.96859359\n",
      " 0.95949019        nan        nan 0.95901281        nan        nan\n",
      "        nan        nan 0.9689847  0.96929548        nan 0.968589\n",
      " 0.95892927 0.96868522 0.95946634 0.95926447 0.96870264 0.96928198\n",
      " 0.96932709 0.95926513 0.96894752 0.96874073 0.95952381 0.96919654\n",
      " 0.96848264 0.96877525        nan        nan 0.95927924 0.96888887\n",
      " 0.96897236 0.95805822 0.95925715        nan 0.9686126         nan\n",
      " 0.96935136        nan 0.96896198 0.9692736         nan 0.95956151\n",
      " 0.95923831 0.95901591 0.96859625 0.96906718 0.96895007 0.96867376\n",
      " 0.96866474        nan 0.96900728        nan 0.96878269 0.96890889\n",
      "        nan 0.96943724        nan 0.96892297        nan        nan\n",
      " 0.96897286 0.95894268 0.96894634        nan 0.96854789 0.96855524\n",
      " 0.95928239        nan        nan 0.96851303]\n",
      "  warnings.warn(\n"
     ]
    },
    {
     "data": {
      "text/plain": [
       "{'n_estimators': 1800,\n",
       " 'min_samples_split': 3,\n",
       " 'max_features': 10,\n",
       " 'max_depth': 15,\n",
       " 'bootstrap': False}"
      ]
     },
     "execution_count": 1155,
     "metadata": {},
     "output_type": "execute_result"
    }
   ],
   "source": [
    "# посмотри какие параметры будут наилучшими для нашей модели\n",
    "from sklearn.model_selection import RandomizedSearchCV\n",
    "n_estimators = [int(x) for x in np.linspace(start=200, stop=2000, num=10)]\n",
    "max_features = [10, 12, 14]\n",
    "max_depth = [10, 15, 20, 25]\n",
    "min_samples_split = [1, 2, 3]\n",
    "bootstrap = [True, False]\n",
    "random_grid = {'max_depth': max_depth,\n",
    "               'n_estimators': n_estimators,\n",
    "               'max_features': max_features,\n",
    "               'min_samples_split': min_samples_split,\n",
    "               'bootstrap': bootstrap}\n",
    "rf = RandomForestRegressor(random_state=RANDOM_SEED)\n",
    "rf_random = RandomizedSearchCV(estimator=rf, param_distributions=random_grid, n_iter=100,\n",
    "                               cv=3, verbose=2, random_state=42, n_jobs=-1)\n",
    "rf_random.fit(X_train, y_train)\n",
    "# посмотрим, какие гиперпараметры нам предлагают как оптимальные:\n",
    "rf_random.best_params_"
   ]
  },
  {
   "cell_type": "code",
   "execution_count": 147,
   "id": "58a82352",
   "metadata": {},
   "outputs": [
    {
     "name": "stdout",
     "output_type": "stream",
     "text": [
      "Точность модели по метрике MAPE: 13.32%\n"
     ]
    }
   ],
   "source": [
    "# обучим нашу модель с полученными параметрами\n",
    "model = RandomForestRegressor(n_estimators=1800, min_samples_split=3, max_features=10,\n",
    "                              max_depth=15, bootstrap=False, random_state=RANDOM_SEED, n_jobs=-1)\n",
    "\n",
    "model.fit(X_train, np.log(y_train))\n",
    "model_pred = np.exp(model.predict(X_test))\n",
    "\n",
    "print(\n",
    "    f\"Точность модели по метрике MAPE: {(mape(y_test, model_pred))*100:0.2f}%\")"
   ]
  },
  {
   "cell_type": "markdown",
   "id": "e43231ee",
   "metadata": {},
   "source": [
    "# Model 2: ExtraTreesRegressor"
   ]
  },
  {
   "cell_type": "code",
   "execution_count": 1152,
   "id": "7c5b820f",
   "metadata": {},
   "outputs": [
    {
     "name": "stdout",
     "output_type": "stream",
     "text": [
      "Точность модели по метрике MAPE: 13.09%\n"
     ]
    }
   ],
   "source": [
    "model = ExtraTreesRegressor(random_state=RANDOM_SEED, n_jobs=-1)\n",
    "\n",
    "model.fit(X_train, np.log(y_train))\n",
    "model_pred = np.exp(model.predict(X_test))\n",
    "\n",
    "print(\n",
    "    f\"Точность модели по метрике MAPE: {(mape(y_test, model_pred))*100:0.2f}%\")"
   ]
  },
  {
   "cell_type": "code",
   "execution_count": 1158,
   "id": "f245c44c",
   "metadata": {},
   "outputs": [
    {
     "name": "stdout",
     "output_type": "stream",
     "text": [
      "Fitting 3 folds for each of 100 candidates, totalling 300 fits\n"
     ]
    },
    {
     "name": "stderr",
     "output_type": "stream",
     "text": [
      "C:\\ProgramData\\Anaconda3\\lib\\site-packages\\sklearn\\model_selection\\_search.py:918: UserWarning: One or more of the test scores are non-finite: [0.96521726 0.96405779 0.93127887 0.96393258 0.95875524 0.93552788\n",
      " 0.93571493 0.95893091 0.96392883 0.93055181 0.96694339 0.9346547\n",
      " 0.9312444  0.95734282 0.9340491  0.96467686 0.93525667 0.96672691\n",
      " 0.96514054 0.96470263 0.93456016 0.92394815 0.9313504  0.96667443\n",
      " 0.95847087 0.96460093 0.96515422 0.96450807 0.95954415 0.9595306\n",
      " 0.93038645 0.92406575 0.96553163 0.92406379 0.96629534        nan\n",
      "        nan 0.96557002 0.96630451 0.9607649  0.96506404 0.95945421\n",
      " 0.93128324 0.96693275 0.9303545  0.93545249 0.96538951 0.96636388\n",
      " 0.96626976 0.93536247 0.9621553  0.96666025 0.93480458 0.96631114\n",
      " 0.95948352 0.96508357 0.96462638 0.96477174 0.93528717 0.96468601\n",
      " 0.96190962 0.92494046 0.93531882 0.93073561 0.9650612  0.95760026\n",
      " 0.96625205 0.96088517 0.96219129 0.96634557 0.96638713 0.93055332\n",
      " 0.93544503 0.92469184 0.95891439 0.96194913 0.96618153 0.96538114\n",
      " 0.96690866 0.96525148 0.96195343 0.96517175 0.96388349 0.96398823\n",
      " 0.93123302 0.96059118        nan 0.96396593 0.95876499 0.96625614\n",
      "        nan 0.93117515 0.96340644 0.96557566 0.96045943 0.96495024\n",
      " 0.93526268 0.92541615 0.96569502 0.95739828]\n",
      "  warnings.warn(\n"
     ]
    },
    {
     "data": {
      "text/plain": [
       "{'n_estimators': 1400,\n",
       " 'min_samples_split': 3,\n",
       " 'max_features': 14,\n",
       " 'max_depth': 25,\n",
       " 'bootstrap': False}"
      ]
     },
     "execution_count": 1158,
     "metadata": {},
     "output_type": "execute_result"
    }
   ],
   "source": [
    "n_estimators = [int(x) for x in np.linspace(start=200, stop=2000, num=10)]\n",
    "max_features = [10, 12, 14]\n",
    "max_depth = [10, 15, 20, 25]\n",
    "min_samples_split = [2, 3, 4]\n",
    "bootstrap = [True, False]\n",
    "random_grid = {'max_depth': max_depth,\n",
    "               'n_estimators': n_estimators,\n",
    "               'max_features': max_features,\n",
    "               'min_samples_split': min_samples_split,\n",
    "               'bootstrap': bootstrap}\n",
    "etr = ExtraTreesRegressor(random_state=RANDOM_SEED)\n",
    "etr_random = RandomizedSearchCV(estimator=etr, param_distributions=random_grid, n_iter=100,\n",
    "                                cv=3, verbose=2, random_state=42, n_jobs=-1)\n",
    "etr_random.fit(X_train, y_train)\n",
    "# посмотрим, какие гиперпараметры нам предлагают как оптимальные:\n",
    "etr_random.best_params_"
   ]
  },
  {
   "cell_type": "code",
   "execution_count": 1159,
   "id": "08e13af4",
   "metadata": {},
   "outputs": [
    {
     "name": "stdout",
     "output_type": "stream",
     "text": [
      "Точность модели по метрике MAPE: 12.84%\n"
     ]
    }
   ],
   "source": [
    "# обучим нашу модель с полученными параметрами\n",
    "model = ExtraTreesRegressor(n_estimators=1400, min_samples_split=3, max_features=14,\n",
    "                            max_depth=25, bootstrap=False, random_state=RANDOM_SEED, n_jobs=-1)\n",
    "\n",
    "model.fit(X_train, np.log(y_train))\n",
    "model_pred = np.exp(model.predict(X_test))\n",
    "\n",
    "print(\n",
    "    f\"Точность модели по метрике MAPE: {(mape(y_test, model_pred))*100:0.2f}%\")"
   ]
  },
  {
   "cell_type": "markdown",
   "id": "60163bdc",
   "metadata": {},
   "source": [
    "# Model 3: GradientBoostingRegressor"
   ]
  },
  {
   "cell_type": "code",
   "execution_count": 1184,
   "id": "2b325cfa",
   "metadata": {},
   "outputs": [
    {
     "name": "stdout",
     "output_type": "stream",
     "text": [
      "Точность модели по метрике MAPE: 17.85%\n"
     ]
    }
   ],
   "source": [
    "model = GradientBoostingRegressor(random_state=RANDOM_SEED)\n",
    "model.fit(X_train, np.log(y_train))\n",
    "model_pred = np.exp(model.predict(X_test))\n",
    "\n",
    "print(\n",
    "    f\"Точность модели по метрике MAPE: {(mape(y_test, model_pred))*100:0.2f}%\")"
   ]
  },
  {
   "cell_type": "code",
   "execution_count": 1160,
   "id": "cc63cae4",
   "metadata": {},
   "outputs": [
    {
     "data": {
      "text/plain": [
       "{'learning_rate': 0.1, 'max_depth': 4, 'n_estimators': 1500, 'subsample': 0.9}"
      ]
     },
     "execution_count": 1160,
     "metadata": {},
     "output_type": "execute_result"
    }
   ],
   "source": [
    "param_grid = {'learning_rate': [0.01, 0.1, 0.5, 0.7],\n",
    "              'subsample': [0.9, 0.5, 0.2, 0.1],\n",
    "              'n_estimators': [100, 500, 1000, 1500],\n",
    "              'max_depth': [2, 4, 6]\n",
    "              }\n",
    "gbs = GradientBoostingRegressor(random_state=RANDOM_SEED)\n",
    "gbs_best = GridSearchCV(estimator=gbs, param_grid=param_grid, cv=2, n_jobs=-1)\n",
    "gbs_best.fit(X_train, y_train)\n",
    "gbs_best.best_params_"
   ]
  },
  {
   "cell_type": "code",
   "execution_count": 1165,
   "id": "9c614e79",
   "metadata": {},
   "outputs": [
    {
     "name": "stdout",
     "output_type": "stream",
     "text": [
      "Точность модели по метрике MAPE: 12.08%\n"
     ]
    }
   ],
   "source": [
    "from sklearn.ensemble import GradientBoostingRegressor\n",
    "model = GradientBoostingRegressor(\n",
    "    n_estimators=1500, learning_rate=0.1, max_depth=5, subsample=0.9, random_state=RANDOM_SEED)\n",
    "model.fit(X_train, np.log(y_train))\n",
    "model_pred = np.exp(model.predict(X_test))\n",
    "\n",
    "print(\n",
    "    f\"Точность модели по метрике MAPE: {(mape(y_test, model_pred))*100:0.2f}%\")"
   ]
  },
  {
   "cell_type": "markdown",
   "id": "3f385e0e",
   "metadata": {},
   "source": [
    "# Model 4: CatBoost"
   ]
  },
  {
   "cell_type": "code",
   "execution_count": 161,
   "id": "7fa0db07",
   "metadata": {},
   "outputs": [
    {
     "name": "stdout",
     "output_type": "stream",
     "text": [
      "Точность модели по метрике MAPE: 11.87%\n"
     ]
    }
   ],
   "source": [
    "cbr = CatBoostRegressor(iterations=5000,\n",
    "                          random_seed=RANDOM_SEED,\n",
    "                          eval_metric='MAPE',\n",
    "                          custom_metric=['R2', 'MAE'],\n",
    "                          silent=True,\n",
    "                          )\n",
    "cbr.fit(X_train, np.log(y_train),\n",
    "          # cat_features=cat_features_ids,\n",
    "          eval_set=(X_test, np.log(y_test)),\n",
    "          verbose_eval=0,\n",
    "          use_best_model=True,\n",
    "          # plot=True\n",
    "          )\n",
    "model_pred = np.exp(cbr.predict(X_test))\n",
    "\n",
    "print(\n",
    "    f\"Точность модели по метрике MAPE: {(mape(y_test, model_pred))*100:0.2f}%\")"
   ]
  },
  {
   "cell_type": "markdown",
   "id": "5f9f365c",
   "metadata": {},
   "source": [
    "# Staking"
   ]
  },
  {
   "cell_type": "code",
   "execution_count": 160,
   "id": "e305bd84",
   "metadata": {},
   "outputs": [
    {
     "name": "stdout",
     "output_type": "stream",
     "text": [
      "Точность модели по метрике MAPE: 14.83%\n"
     ]
    }
   ],
   "source": [
    "# Стакинг с использованием StackingRegressor\n",
    "\n",
    "estimators = [\n",
    "    ('etr', ExtraTreesRegressor(n_estimators = 1400, min_samples_split = 3, max_features = 14,\n",
    "                            max_depth = 25, bootstrap = False, random_state=RANDOM_SEED, n_jobs=-1)),\n",
    "    ('dtr', DecisionTreeRegressor(random_state=RANDOM_SEED))\n",
    "]\n",
    "reg = StackingRegressor(\n",
    "    estimators=estimators,\n",
    "    final_estimator=RandomForestRegressor(n_estimators = 1800, min_samples_split = 3,\n",
    "                            max_depth = 15, bootstrap = False, random_state=RANDOM_SEED, n_jobs=-1)\n",
    ")\n",
    "\n",
    "reg.fit(X_train, np.log(y_train))\n",
    "model_pred = np.exp(reg.predict(X_test))\n",
    "\n",
    "print(\n",
    "    f\"Точность модели по метрике MAPE: {(mape(y_test, model_pred))*100:0.2f}%\")"
   ]
  },
  {
   "cell_type": "code",
   "execution_count": 1178,
   "id": "224bd97a",
   "metadata": {},
   "outputs": [
    {
     "name": "stdout",
     "output_type": "stream",
     "text": [
      "Точность модели по метрике MAPE: 11.85%\n"
     ]
    }
   ],
   "source": [
    "# Стакинг с использованием ML-Ensemble\n",
    "\n",
    "ensemble = SuperLearner()\n",
    "estimators = [\n",
    "    RandomForestRegressor(n_estimators = 1800, min_samples_split = 3, max_features = 10,\n",
    "                            max_depth = 15, bootstrap = False, random_state=RANDOM_SEED, n_jobs=-1),\n",
    "    GradientBoostingRegressor(n_estimators=1500, learning_rate = 0.1, max_depth = 5,subsample= 0.9, random_state=42),\n",
    "    ExtraTreesRegressor(n_estimators = 1400, min_samples_split = 3, max_features = 14,\n",
    "                            max_depth = 25, bootstrap = False, random_state=RANDOM_SEED, n_jobs=-1)\n",
    "]\n",
    "meta_estimator = [LinearRegression()]\n",
    "ensemble.add(estimators)\n",
    "ensemble.add_meta(meta_estimator)\n",
    "\n",
    "ensemble.fit(X_train, np.log(y_train))\n",
    "model_pred = np.exp(ensemble.predict(X_test))\n",
    "\n",
    "print(f\"Точность модели по метрике MAPE: {(mape(y_test, model_pred))*100:0.2f}%\")"
   ]
  },
  {
   "cell_type": "markdown",
   "id": "43c2a8aa",
   "metadata": {},
   "source": [
    "**Резюме**: Мной были опробованы 4 регрессионных модели и два варинта построения ансамблей (стакинг), на тесте лучший результат МАРЕ показал ансамбль с использованием ML-Ensemble: 11.85%, однако на сабмите лучший результат у модели обучения с применением CatBoost: 17.79%."
   ]
  },
  {
   "cell_type": "code",
   "execution_count": 162,
   "id": "6b8e7575",
   "metadata": {},
   "outputs": [
    {
     "name": "stdout",
     "output_type": "stream",
     "text": [
      "Точность модели по метрике MAPE: 11.87%\n"
     ]
    }
   ],
   "source": [
    "predict_test = np.exp(cbr.predict(X_test))\n",
    "predict_submission = np.exp(cbr.predict(X_sub))\n",
    "print(f\"Точность модели по метрике MAPE: {(mape(y_test, predict_test))*100:0.2f}%\")"
   ]
  },
  {
   "cell_type": "markdown",
   "id": "41476c7f",
   "metadata": {},
   "source": [
    "# Submission"
   ]
  },
  {
   "cell_type": "code",
   "execution_count": 164,
   "id": "11141e37",
   "metadata": {},
   "outputs": [
    {
     "data": {
      "text/html": [
       "<div>\n",
       "<style scoped>\n",
       "    .dataframe tbody tr th:only-of-type {\n",
       "        vertical-align: middle;\n",
       "    }\n",
       "\n",
       "    .dataframe tbody tr th {\n",
       "        vertical-align: top;\n",
       "    }\n",
       "\n",
       "    .dataframe thead th {\n",
       "        text-align: right;\n",
       "    }\n",
       "</style>\n",
       "<table border=\"1\" class=\"dataframe\">\n",
       "  <thead>\n",
       "    <tr style=\"text-align: right;\">\n",
       "      <th></th>\n",
       "      <th>sell_id</th>\n",
       "      <th>price</th>\n",
       "    </tr>\n",
       "  </thead>\n",
       "  <tbody>\n",
       "    <tr>\n",
       "      <th>0</th>\n",
       "      <td>1100575026</td>\n",
       "      <td>5.954416e+05</td>\n",
       "    </tr>\n",
       "    <tr>\n",
       "      <th>1</th>\n",
       "      <td>1100549428</td>\n",
       "      <td>7.738200e+05</td>\n",
       "    </tr>\n",
       "    <tr>\n",
       "      <th>2</th>\n",
       "      <td>1100658222</td>\n",
       "      <td>9.318834e+05</td>\n",
       "    </tr>\n",
       "    <tr>\n",
       "      <th>3</th>\n",
       "      <td>1100937408</td>\n",
       "      <td>6.336655e+05</td>\n",
       "    </tr>\n",
       "    <tr>\n",
       "      <th>4</th>\n",
       "      <td>1101037972</td>\n",
       "      <td>7.169601e+05</td>\n",
       "    </tr>\n",
       "    <tr>\n",
       "      <th>5</th>\n",
       "      <td>1100912634</td>\n",
       "      <td>6.820886e+05</td>\n",
       "    </tr>\n",
       "    <tr>\n",
       "      <th>6</th>\n",
       "      <td>1101228730</td>\n",
       "      <td>5.974865e+05</td>\n",
       "    </tr>\n",
       "    <tr>\n",
       "      <th>7</th>\n",
       "      <td>1100165896</td>\n",
       "      <td>3.453684e+05</td>\n",
       "    </tr>\n",
       "    <tr>\n",
       "      <th>8</th>\n",
       "      <td>1100768262</td>\n",
       "      <td>1.424246e+06</td>\n",
       "    </tr>\n",
       "    <tr>\n",
       "      <th>9</th>\n",
       "      <td>1101218501</td>\n",
       "      <td>8.430094e+05</td>\n",
       "    </tr>\n",
       "  </tbody>\n",
       "</table>\n",
       "</div>"
      ],
      "text/plain": [
       "      sell_id         price\n",
       "0  1100575026  5.954416e+05\n",
       "1  1100549428  7.738200e+05\n",
       "2  1100658222  9.318834e+05\n",
       "3  1100937408  6.336655e+05\n",
       "4  1101037972  7.169601e+05\n",
       "5  1100912634  6.820886e+05\n",
       "6  1101228730  5.974865e+05\n",
       "7  1100165896  3.453684e+05\n",
       "8  1100768262  1.424246e+06\n",
       "9  1101218501  8.430094e+05"
      ]
     },
     "execution_count": 164,
     "metadata": {},
     "output_type": "execute_result"
    }
   ],
   "source": [
    "sample_submission['price'] = predict_submission\n",
    "sample_submission.to_csv(f'submission_2_v15.csv', index=False)\n",
    "sample_submission.head(10)"
   ]
  }
 ],
 "metadata": {
  "kernelspec": {
   "display_name": "Python 3",
   "language": "python",
   "name": "python3"
  },
  "language_info": {
   "codemirror_mode": {
    "name": "ipython",
    "version": 3
   },
   "file_extension": ".py",
   "mimetype": "text/x-python",
   "name": "python",
   "nbconvert_exporter": "python",
   "pygments_lexer": "ipython3",
   "version": "3.8.8"
  }
 },
 "nbformat": 4,
 "nbformat_minor": 5
}
